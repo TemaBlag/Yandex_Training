{
  "nbformat": 4,
  "nbformat_minor": 0,
  "metadata": {
    "colab": {
      "provenance": [],
      "gpuType": "T4"
    },
    "kernelspec": {
      "name": "python3",
      "display_name": "Python 3"
    },
    "language_info": {
      "name": "python"
    },
    "widgets": {
      "application/vnd.jupyter.widget-state+json": {
        "f98f6371f3844ba8b55929e522c17133": {
          "model_module": "@jupyter-widgets/controls",
          "model_name": "HBoxModel",
          "model_module_version": "1.5.0",
          "state": {
            "_dom_classes": [],
            "_model_module": "@jupyter-widgets/controls",
            "_model_module_version": "1.5.0",
            "_model_name": "HBoxModel",
            "_view_count": null,
            "_view_module": "@jupyter-widgets/controls",
            "_view_module_version": "1.5.0",
            "_view_name": "HBoxView",
            "box_style": "",
            "children": [
              "IPY_MODEL_f856b74c487f4b74be6b07f62d83c3bb",
              "IPY_MODEL_b7a0ac1f189c41ac8d3eeee785f51082",
              "IPY_MODEL_24dec974d7974b6aa3bf3c20e033c84a"
            ],
            "layout": "IPY_MODEL_ed48dc4567484961ab6da779b490865a"
          }
        },
        "f856b74c487f4b74be6b07f62d83c3bb": {
          "model_module": "@jupyter-widgets/controls",
          "model_name": "HTMLModel",
          "model_module_version": "1.5.0",
          "state": {
            "_dom_classes": [],
            "_model_module": "@jupyter-widgets/controls",
            "_model_module_version": "1.5.0",
            "_model_name": "HTMLModel",
            "_view_count": null,
            "_view_module": "@jupyter-widgets/controls",
            "_view_module_version": "1.5.0",
            "_view_name": "HTMLView",
            "description": "",
            "description_tooltip": null,
            "layout": "IPY_MODEL_20a197d52b6d4aa4950dfbaebe7b2f4a",
            "placeholder": "​",
            "style": "IPY_MODEL_ce4edd07ac5e4823b69b63d1b3f44072",
            "value": "100%"
          }
        },
        "b7a0ac1f189c41ac8d3eeee785f51082": {
          "model_module": "@jupyter-widgets/controls",
          "model_name": "FloatProgressModel",
          "model_module_version": "1.5.0",
          "state": {
            "_dom_classes": [],
            "_model_module": "@jupyter-widgets/controls",
            "_model_module_version": "1.5.0",
            "_model_name": "FloatProgressModel",
            "_view_count": null,
            "_view_module": "@jupyter-widgets/controls",
            "_view_module_version": "1.5.0",
            "_view_name": "ProgressView",
            "bar_style": "success",
            "description": "",
            "description_tooltip": null,
            "layout": "IPY_MODEL_a1e90344ab3b436eb14c84f931b71818",
            "max": 9605,
            "min": 0,
            "orientation": "horizontal",
            "style": "IPY_MODEL_3461500b07ee4ce89570baf0aa3291f9",
            "value": 9605
          }
        },
        "24dec974d7974b6aa3bf3c20e033c84a": {
          "model_module": "@jupyter-widgets/controls",
          "model_name": "HTMLModel",
          "model_module_version": "1.5.0",
          "state": {
            "_dom_classes": [],
            "_model_module": "@jupyter-widgets/controls",
            "_model_module_version": "1.5.0",
            "_model_name": "HTMLModel",
            "_view_count": null,
            "_view_module": "@jupyter-widgets/controls",
            "_view_module_version": "1.5.0",
            "_view_name": "HTMLView",
            "description": "",
            "description_tooltip": null,
            "layout": "IPY_MODEL_cd31f00985a3469cb32fc8f76cd2f699",
            "placeholder": "​",
            "style": "IPY_MODEL_9ed8e11cca104c4285f7aa2a4af6a124",
            "value": " 9605/9605 [02:33&lt;00:00, 50.97it/s]"
          }
        },
        "ed48dc4567484961ab6da779b490865a": {
          "model_module": "@jupyter-widgets/base",
          "model_name": "LayoutModel",
          "model_module_version": "1.2.0",
          "state": {
            "_model_module": "@jupyter-widgets/base",
            "_model_module_version": "1.2.0",
            "_model_name": "LayoutModel",
            "_view_count": null,
            "_view_module": "@jupyter-widgets/base",
            "_view_module_version": "1.2.0",
            "_view_name": "LayoutView",
            "align_content": null,
            "align_items": null,
            "align_self": null,
            "border": null,
            "bottom": null,
            "display": null,
            "flex": null,
            "flex_flow": null,
            "grid_area": null,
            "grid_auto_columns": null,
            "grid_auto_flow": null,
            "grid_auto_rows": null,
            "grid_column": null,
            "grid_gap": null,
            "grid_row": null,
            "grid_template_areas": null,
            "grid_template_columns": null,
            "grid_template_rows": null,
            "height": null,
            "justify_content": null,
            "justify_items": null,
            "left": null,
            "margin": null,
            "max_height": null,
            "max_width": null,
            "min_height": null,
            "min_width": null,
            "object_fit": null,
            "object_position": null,
            "order": null,
            "overflow": null,
            "overflow_x": null,
            "overflow_y": null,
            "padding": null,
            "right": null,
            "top": null,
            "visibility": null,
            "width": null
          }
        },
        "20a197d52b6d4aa4950dfbaebe7b2f4a": {
          "model_module": "@jupyter-widgets/base",
          "model_name": "LayoutModel",
          "model_module_version": "1.2.0",
          "state": {
            "_model_module": "@jupyter-widgets/base",
            "_model_module_version": "1.2.0",
            "_model_name": "LayoutModel",
            "_view_count": null,
            "_view_module": "@jupyter-widgets/base",
            "_view_module_version": "1.2.0",
            "_view_name": "LayoutView",
            "align_content": null,
            "align_items": null,
            "align_self": null,
            "border": null,
            "bottom": null,
            "display": null,
            "flex": null,
            "flex_flow": null,
            "grid_area": null,
            "grid_auto_columns": null,
            "grid_auto_flow": null,
            "grid_auto_rows": null,
            "grid_column": null,
            "grid_gap": null,
            "grid_row": null,
            "grid_template_areas": null,
            "grid_template_columns": null,
            "grid_template_rows": null,
            "height": null,
            "justify_content": null,
            "justify_items": null,
            "left": null,
            "margin": null,
            "max_height": null,
            "max_width": null,
            "min_height": null,
            "min_width": null,
            "object_fit": null,
            "object_position": null,
            "order": null,
            "overflow": null,
            "overflow_x": null,
            "overflow_y": null,
            "padding": null,
            "right": null,
            "top": null,
            "visibility": null,
            "width": null
          }
        },
        "ce4edd07ac5e4823b69b63d1b3f44072": {
          "model_module": "@jupyter-widgets/controls",
          "model_name": "DescriptionStyleModel",
          "model_module_version": "1.5.0",
          "state": {
            "_model_module": "@jupyter-widgets/controls",
            "_model_module_version": "1.5.0",
            "_model_name": "DescriptionStyleModel",
            "_view_count": null,
            "_view_module": "@jupyter-widgets/base",
            "_view_module_version": "1.2.0",
            "_view_name": "StyleView",
            "description_width": ""
          }
        },
        "a1e90344ab3b436eb14c84f931b71818": {
          "model_module": "@jupyter-widgets/base",
          "model_name": "LayoutModel",
          "model_module_version": "1.2.0",
          "state": {
            "_model_module": "@jupyter-widgets/base",
            "_model_module_version": "1.2.0",
            "_model_name": "LayoutModel",
            "_view_count": null,
            "_view_module": "@jupyter-widgets/base",
            "_view_module_version": "1.2.0",
            "_view_name": "LayoutView",
            "align_content": null,
            "align_items": null,
            "align_self": null,
            "border": null,
            "bottom": null,
            "display": null,
            "flex": null,
            "flex_flow": null,
            "grid_area": null,
            "grid_auto_columns": null,
            "grid_auto_flow": null,
            "grid_auto_rows": null,
            "grid_column": null,
            "grid_gap": null,
            "grid_row": null,
            "grid_template_areas": null,
            "grid_template_columns": null,
            "grid_template_rows": null,
            "height": null,
            "justify_content": null,
            "justify_items": null,
            "left": null,
            "margin": null,
            "max_height": null,
            "max_width": null,
            "min_height": null,
            "min_width": null,
            "object_fit": null,
            "object_position": null,
            "order": null,
            "overflow": null,
            "overflow_x": null,
            "overflow_y": null,
            "padding": null,
            "right": null,
            "top": null,
            "visibility": null,
            "width": null
          }
        },
        "3461500b07ee4ce89570baf0aa3291f9": {
          "model_module": "@jupyter-widgets/controls",
          "model_name": "ProgressStyleModel",
          "model_module_version": "1.5.0",
          "state": {
            "_model_module": "@jupyter-widgets/controls",
            "_model_module_version": "1.5.0",
            "_model_name": "ProgressStyleModel",
            "_view_count": null,
            "_view_module": "@jupyter-widgets/base",
            "_view_module_version": "1.2.0",
            "_view_name": "StyleView",
            "bar_color": null,
            "description_width": ""
          }
        },
        "cd31f00985a3469cb32fc8f76cd2f699": {
          "model_module": "@jupyter-widgets/base",
          "model_name": "LayoutModel",
          "model_module_version": "1.2.0",
          "state": {
            "_model_module": "@jupyter-widgets/base",
            "_model_module_version": "1.2.0",
            "_model_name": "LayoutModel",
            "_view_count": null,
            "_view_module": "@jupyter-widgets/base",
            "_view_module_version": "1.2.0",
            "_view_name": "LayoutView",
            "align_content": null,
            "align_items": null,
            "align_self": null,
            "border": null,
            "bottom": null,
            "display": null,
            "flex": null,
            "flex_flow": null,
            "grid_area": null,
            "grid_auto_columns": null,
            "grid_auto_flow": null,
            "grid_auto_rows": null,
            "grid_column": null,
            "grid_gap": null,
            "grid_row": null,
            "grid_template_areas": null,
            "grid_template_columns": null,
            "grid_template_rows": null,
            "height": null,
            "justify_content": null,
            "justify_items": null,
            "left": null,
            "margin": null,
            "max_height": null,
            "max_width": null,
            "min_height": null,
            "min_width": null,
            "object_fit": null,
            "object_position": null,
            "order": null,
            "overflow": null,
            "overflow_x": null,
            "overflow_y": null,
            "padding": null,
            "right": null,
            "top": null,
            "visibility": null,
            "width": null
          }
        },
        "9ed8e11cca104c4285f7aa2a4af6a124": {
          "model_module": "@jupyter-widgets/controls",
          "model_name": "DescriptionStyleModel",
          "model_module_version": "1.5.0",
          "state": {
            "_model_module": "@jupyter-widgets/controls",
            "_model_module_version": "1.5.0",
            "_model_name": "DescriptionStyleModel",
            "_view_count": null,
            "_view_module": "@jupyter-widgets/base",
            "_view_module_version": "1.2.0",
            "_view_name": "StyleView",
            "description_width": ""
          }
        }
      }
    },
    "accelerator": "GPU"
  },
  "cells": [
    {
      "cell_type": "code",
      "source": [
        "# !pip uninstall -y torch torchvision\n",
        "# !pip install torch torchvision"
      ],
      "metadata": {
        "id": "OE8bj-6JJNXw"
      },
      "execution_count": null,
      "outputs": []
    },
    {
      "cell_type": "code",
      "execution_count": 2,
      "metadata": {
        "id": "uQb_R5_DE33v"
      },
      "outputs": [],
      "source": [
        "import os\n",
        "import numpy as np\n",
        "import pandas as pd\n",
        "from PIL import Image\n",
        "import matplotlib.pyplot as plt\n",
        "import torch\n",
        "from torch.utils.data import Dataset, DataLoader\n",
        "import torchvision.transforms as T\n",
        "import torch.nn as nn\n",
        "from tqdm.notebook import tqdm\n",
        "import torch.optim as optim\n",
        "import re\n",
        "from collections import defaultdict"
      ]
    },
    {
      "cell_type": "markdown",
      "source": [
        "  # A. Art"
      ],
      "metadata": {
        "id": "gStzp42Ol6wj"
      }
    },
    {
      "cell_type": "code",
      "source": [
        "# ! wget https://github.com/TemaBlag/Yandex_Training/tree/main/ml_training_3/hw6/best_pictures.tar.gz"
      ],
      "metadata": {
        "id": "AXvL9Eg8GVgt"
      },
      "execution_count": 5,
      "outputs": []
    },
    {
      "cell_type": "code",
      "source": [
        "import shutil\n",
        "\n",
        "shutil.rmtree('/content/best_pictures')"
      ],
      "metadata": {
        "id": "OifAYwfDUW2g"
      },
      "execution_count": 9,
      "outputs": []
    },
    {
      "cell_type": "code",
      "source": [
        "# !mkdir best_pictures\n",
        "# !tar -xzvf best_pictures.tar.gz -C best_pictures"
      ],
      "metadata": {
        "id": "DFyd3TyNHh8c"
      },
      "execution_count": 13,
      "outputs": []
    },
    {
      "cell_type": "code",
      "source": [
        "# !pip install chardet"
      ],
      "metadata": {
        "id": "JLFt_SLwISCa"
      },
      "execution_count": 5,
      "outputs": []
    },
    {
      "cell_type": "code",
      "source": [
        "import chardet\n",
        "\n",
        "folder_path = 'best_pictures'\n",
        "txt_files = dict()\n",
        "png_files = dict()\n",
        "\n",
        "for filename in os.listdir(folder_path):\n",
        "    full_path = os.path.join(folder_path, filename)\n",
        "    if filename.endswith('.csv'):\n",
        "        df_algos = pd.read_csv(full_path, header=None)\n",
        "    elif filename.endswith('.txt'):\n",
        "        with open(full_path, 'rb') as f:\n",
        "            raw_data = f.read()\n",
        "            result = chardet.detect(raw_data)\n",
        "            encoding = result['encoding']\n",
        "        with open(full_path, 'r', encoding=encoding) as f:\n",
        "            content = f.read()\n",
        "            txt_files[filename[:-4]] = content\n",
        "    elif filename.endswith('.png'):\n",
        "        image = Image.open(full_path)\n",
        "        png_files[filename[:-4]] = image\n"
      ],
      "metadata": {
        "id": "L05XwbxTFKEu"
      },
      "execution_count": 50,
      "outputs": []
    },
    {
      "cell_type": "code",
      "source": [
        "len(txt_files.keys()), len(png_files.keys())"
      ],
      "metadata": {
        "colab": {
          "base_uri": "https://localhost:8080/"
        },
        "id": "9eE6F5wqXsOp",
        "outputId": "d63ce704-de94-4c32-9717-44b4bfb52cde"
      },
      "execution_count": 51,
      "outputs": [
        {
          "output_type": "execute_result",
          "data": {
            "text/plain": [
              "(1001, 1000)"
            ]
          },
          "metadata": {},
          "execution_count": 51
        }
      ]
    },
    {
      "cell_type": "code",
      "source": [
        "set(txt_files.keys()) - set(png_files.keys())"
      ],
      "metadata": {
        "colab": {
          "base_uri": "https://localhost:8080/"
        },
        "id": "hi42MIyPX0Ef",
        "outputId": "7de3589a-760b-4368-8c9b-fb8c79d83f1f"
      },
      "execution_count": 52,
      "outputs": [
        {
          "output_type": "execute_result",
          "data": {
            "text/plain": [
              "{'._1'}"
            ]
          },
          "metadata": {},
          "execution_count": 52
        }
      ]
    },
    {
      "cell_type": "code",
      "source": [
        "del txt_files['._1']"
      ],
      "metadata": {
        "id": "YjkxyfyZYIR3"
      },
      "execution_count": 53,
      "outputs": []
    },
    {
      "cell_type": "code",
      "source": [
        "set(txt_files.keys()) - set(png_files.keys())"
      ],
      "metadata": {
        "colab": {
          "base_uri": "https://localhost:8080/"
        },
        "id": "RBmaA5xKYOA-",
        "outputId": "826ce72f-29a4-473d-c5b2-be05c78f6eb2"
      },
      "execution_count": 54,
      "outputs": [
        {
          "output_type": "execute_result",
          "data": {
            "text/plain": [
              "set()"
            ]
          },
          "metadata": {},
          "execution_count": 54
        }
      ]
    },
    {
      "cell_type": "code",
      "source": [
        "png_files = {int(k) - 1: v for k, v in png_files.items()}\n",
        "txt_files = {int(k) - 1: v for k, v in txt_files.items()}"
      ],
      "metadata": {
        "id": "hoer2c3KY2M6"
      },
      "execution_count": 55,
      "outputs": []
    },
    {
      "cell_type": "code",
      "source": [
        "df_algos.head()"
      ],
      "metadata": {
        "colab": {
          "base_uri": "https://localhost:8080/",
          "height": 111
        },
        "id": "C57soHNiLBty",
        "outputId": "f97ade80-b73e-4d80-81aa-fdf1265f8bee"
      },
      "execution_count": 56,
      "outputs": [
        {
          "output_type": "execute_result",
          "data": {
            "text/plain": [
              "        0       1       2       3       4       5       6       7       8\n",
              "0 -1.0000 -0.5000  0.0000 -0.5000  0.5000  0.5000  0.0000  0.5000  1.0000\n",
              "1  0.0625  0.0625  0.0625  0.0625  0.0625  0.0625  0.0625  0.0625  0.0625"
            ],
            "text/html": [
              "\n",
              "  <div id=\"df-b5388eaf-ad73-466c-9551-6ef681ace036\" class=\"colab-df-container\">\n",
              "    <div>\n",
              "<style scoped>\n",
              "    .dataframe tbody tr th:only-of-type {\n",
              "        vertical-align: middle;\n",
              "    }\n",
              "\n",
              "    .dataframe tbody tr th {\n",
              "        vertical-align: top;\n",
              "    }\n",
              "\n",
              "    .dataframe thead th {\n",
              "        text-align: right;\n",
              "    }\n",
              "</style>\n",
              "<table border=\"1\" class=\"dataframe\">\n",
              "  <thead>\n",
              "    <tr style=\"text-align: right;\">\n",
              "      <th></th>\n",
              "      <th>0</th>\n",
              "      <th>1</th>\n",
              "      <th>2</th>\n",
              "      <th>3</th>\n",
              "      <th>4</th>\n",
              "      <th>5</th>\n",
              "      <th>6</th>\n",
              "      <th>7</th>\n",
              "      <th>8</th>\n",
              "    </tr>\n",
              "  </thead>\n",
              "  <tbody>\n",
              "    <tr>\n",
              "      <th>0</th>\n",
              "      <td>-1.0000</td>\n",
              "      <td>-0.5000</td>\n",
              "      <td>0.0000</td>\n",
              "      <td>-0.5000</td>\n",
              "      <td>0.5000</td>\n",
              "      <td>0.5000</td>\n",
              "      <td>0.0000</td>\n",
              "      <td>0.5000</td>\n",
              "      <td>1.0000</td>\n",
              "    </tr>\n",
              "    <tr>\n",
              "      <th>1</th>\n",
              "      <td>0.0625</td>\n",
              "      <td>0.0625</td>\n",
              "      <td>0.0625</td>\n",
              "      <td>0.0625</td>\n",
              "      <td>0.0625</td>\n",
              "      <td>0.0625</td>\n",
              "      <td>0.0625</td>\n",
              "      <td>0.0625</td>\n",
              "      <td>0.0625</td>\n",
              "    </tr>\n",
              "  </tbody>\n",
              "</table>\n",
              "</div>\n",
              "    <div class=\"colab-df-buttons\">\n",
              "\n",
              "  <div class=\"colab-df-container\">\n",
              "    <button class=\"colab-df-convert\" onclick=\"convertToInteractive('df-b5388eaf-ad73-466c-9551-6ef681ace036')\"\n",
              "            title=\"Convert this dataframe to an interactive table.\"\n",
              "            style=\"display:none;\">\n",
              "\n",
              "  <svg xmlns=\"http://www.w3.org/2000/svg\" height=\"24px\" viewBox=\"0 -960 960 960\">\n",
              "    <path d=\"M120-120v-720h720v720H120Zm60-500h600v-160H180v160Zm220 220h160v-160H400v160Zm0 220h160v-160H400v160ZM180-400h160v-160H180v160Zm440 0h160v-160H620v160ZM180-180h160v-160H180v160Zm440 0h160v-160H620v160Z\"/>\n",
              "  </svg>\n",
              "    </button>\n",
              "\n",
              "  <style>\n",
              "    .colab-df-container {\n",
              "      display:flex;\n",
              "      gap: 12px;\n",
              "    }\n",
              "\n",
              "    .colab-df-convert {\n",
              "      background-color: #E8F0FE;\n",
              "      border: none;\n",
              "      border-radius: 50%;\n",
              "      cursor: pointer;\n",
              "      display: none;\n",
              "      fill: #1967D2;\n",
              "      height: 32px;\n",
              "      padding: 0 0 0 0;\n",
              "      width: 32px;\n",
              "    }\n",
              "\n",
              "    .colab-df-convert:hover {\n",
              "      background-color: #E2EBFA;\n",
              "      box-shadow: 0px 1px 2px rgba(60, 64, 67, 0.3), 0px 1px 3px 1px rgba(60, 64, 67, 0.15);\n",
              "      fill: #174EA6;\n",
              "    }\n",
              "\n",
              "    .colab-df-buttons div {\n",
              "      margin-bottom: 4px;\n",
              "    }\n",
              "\n",
              "    [theme=dark] .colab-df-convert {\n",
              "      background-color: #3B4455;\n",
              "      fill: #D2E3FC;\n",
              "    }\n",
              "\n",
              "    [theme=dark] .colab-df-convert:hover {\n",
              "      background-color: #434B5C;\n",
              "      box-shadow: 0px 1px 3px 1px rgba(0, 0, 0, 0.15);\n",
              "      filter: drop-shadow(0px 1px 2px rgba(0, 0, 0, 0.3));\n",
              "      fill: #FFFFFF;\n",
              "    }\n",
              "  </style>\n",
              "\n",
              "    <script>\n",
              "      const buttonEl =\n",
              "        document.querySelector('#df-b5388eaf-ad73-466c-9551-6ef681ace036 button.colab-df-convert');\n",
              "      buttonEl.style.display =\n",
              "        google.colab.kernel.accessAllowed ? 'block' : 'none';\n",
              "\n",
              "      async function convertToInteractive(key) {\n",
              "        const element = document.querySelector('#df-b5388eaf-ad73-466c-9551-6ef681ace036');\n",
              "        const dataTable =\n",
              "          await google.colab.kernel.invokeFunction('convertToInteractive',\n",
              "                                                    [key], {});\n",
              "        if (!dataTable) return;\n",
              "\n",
              "        const docLinkHtml = 'Like what you see? Visit the ' +\n",
              "          '<a target=\"_blank\" href=https://colab.research.google.com/notebooks/data_table.ipynb>data table notebook</a>'\n",
              "          + ' to learn more about interactive tables.';\n",
              "        element.innerHTML = '';\n",
              "        dataTable['output_type'] = 'display_data';\n",
              "        await google.colab.output.renderOutput(dataTable, element);\n",
              "        const docLink = document.createElement('div');\n",
              "        docLink.innerHTML = docLinkHtml;\n",
              "        element.appendChild(docLink);\n",
              "      }\n",
              "    </script>\n",
              "  </div>\n",
              "\n",
              "\n",
              "    <div id=\"df-3a3de927-8a57-44c2-9f0a-73eef9631bee\">\n",
              "      <button class=\"colab-df-quickchart\" onclick=\"quickchart('df-3a3de927-8a57-44c2-9f0a-73eef9631bee')\"\n",
              "                title=\"Suggest charts\"\n",
              "                style=\"display:none;\">\n",
              "\n",
              "<svg xmlns=\"http://www.w3.org/2000/svg\" height=\"24px\"viewBox=\"0 0 24 24\"\n",
              "     width=\"24px\">\n",
              "    <g>\n",
              "        <path d=\"M19 3H5c-1.1 0-2 .9-2 2v14c0 1.1.9 2 2 2h14c1.1 0 2-.9 2-2V5c0-1.1-.9-2-2-2zM9 17H7v-7h2v7zm4 0h-2V7h2v10zm4 0h-2v-4h2v4z\"/>\n",
              "    </g>\n",
              "</svg>\n",
              "      </button>\n",
              "\n",
              "<style>\n",
              "  .colab-df-quickchart {\n",
              "      --bg-color: #E8F0FE;\n",
              "      --fill-color: #1967D2;\n",
              "      --hover-bg-color: #E2EBFA;\n",
              "      --hover-fill-color: #174EA6;\n",
              "      --disabled-fill-color: #AAA;\n",
              "      --disabled-bg-color: #DDD;\n",
              "  }\n",
              "\n",
              "  [theme=dark] .colab-df-quickchart {\n",
              "      --bg-color: #3B4455;\n",
              "      --fill-color: #D2E3FC;\n",
              "      --hover-bg-color: #434B5C;\n",
              "      --hover-fill-color: #FFFFFF;\n",
              "      --disabled-bg-color: #3B4455;\n",
              "      --disabled-fill-color: #666;\n",
              "  }\n",
              "\n",
              "  .colab-df-quickchart {\n",
              "    background-color: var(--bg-color);\n",
              "    border: none;\n",
              "    border-radius: 50%;\n",
              "    cursor: pointer;\n",
              "    display: none;\n",
              "    fill: var(--fill-color);\n",
              "    height: 32px;\n",
              "    padding: 0;\n",
              "    width: 32px;\n",
              "  }\n",
              "\n",
              "  .colab-df-quickchart:hover {\n",
              "    background-color: var(--hover-bg-color);\n",
              "    box-shadow: 0 1px 2px rgba(60, 64, 67, 0.3), 0 1px 3px 1px rgba(60, 64, 67, 0.15);\n",
              "    fill: var(--button-hover-fill-color);\n",
              "  }\n",
              "\n",
              "  .colab-df-quickchart-complete:disabled,\n",
              "  .colab-df-quickchart-complete:disabled:hover {\n",
              "    background-color: var(--disabled-bg-color);\n",
              "    fill: var(--disabled-fill-color);\n",
              "    box-shadow: none;\n",
              "  }\n",
              "\n",
              "  .colab-df-spinner {\n",
              "    border: 2px solid var(--fill-color);\n",
              "    border-color: transparent;\n",
              "    border-bottom-color: var(--fill-color);\n",
              "    animation:\n",
              "      spin 1s steps(1) infinite;\n",
              "  }\n",
              "\n",
              "  @keyframes spin {\n",
              "    0% {\n",
              "      border-color: transparent;\n",
              "      border-bottom-color: var(--fill-color);\n",
              "      border-left-color: var(--fill-color);\n",
              "    }\n",
              "    20% {\n",
              "      border-color: transparent;\n",
              "      border-left-color: var(--fill-color);\n",
              "      border-top-color: var(--fill-color);\n",
              "    }\n",
              "    30% {\n",
              "      border-color: transparent;\n",
              "      border-left-color: var(--fill-color);\n",
              "      border-top-color: var(--fill-color);\n",
              "      border-right-color: var(--fill-color);\n",
              "    }\n",
              "    40% {\n",
              "      border-color: transparent;\n",
              "      border-right-color: var(--fill-color);\n",
              "      border-top-color: var(--fill-color);\n",
              "    }\n",
              "    60% {\n",
              "      border-color: transparent;\n",
              "      border-right-color: var(--fill-color);\n",
              "    }\n",
              "    80% {\n",
              "      border-color: transparent;\n",
              "      border-right-color: var(--fill-color);\n",
              "      border-bottom-color: var(--fill-color);\n",
              "    }\n",
              "    90% {\n",
              "      border-color: transparent;\n",
              "      border-bottom-color: var(--fill-color);\n",
              "    }\n",
              "  }\n",
              "</style>\n",
              "\n",
              "      <script>\n",
              "        async function quickchart(key) {\n",
              "          const quickchartButtonEl =\n",
              "            document.querySelector('#' + key + ' button');\n",
              "          quickchartButtonEl.disabled = true;  // To prevent multiple clicks.\n",
              "          quickchartButtonEl.classList.add('colab-df-spinner');\n",
              "          try {\n",
              "            const charts = await google.colab.kernel.invokeFunction(\n",
              "                'suggestCharts', [key], {});\n",
              "          } catch (error) {\n",
              "            console.error('Error during call to suggestCharts:', error);\n",
              "          }\n",
              "          quickchartButtonEl.classList.remove('colab-df-spinner');\n",
              "          quickchartButtonEl.classList.add('colab-df-quickchart-complete');\n",
              "        }\n",
              "        (() => {\n",
              "          let quickchartButtonEl =\n",
              "            document.querySelector('#df-3a3de927-8a57-44c2-9f0a-73eef9631bee button');\n",
              "          quickchartButtonEl.style.display =\n",
              "            google.colab.kernel.accessAllowed ? 'block' : 'none';\n",
              "        })();\n",
              "      </script>\n",
              "    </div>\n",
              "    </div>\n",
              "  </div>\n"
            ],
            "application/vnd.google.colaboratory.intrinsic+json": {
              "type": "dataframe",
              "variable_name": "df_algos",
              "summary": "{\n  \"name\": \"df_algos\",\n  \"rows\": 2,\n  \"fields\": [\n    {\n      \"column\": 0,\n      \"properties\": {\n        \"dtype\": \"number\",\n        \"std\": 0.7513009550107067,\n        \"min\": -1.0,\n        \"max\": 0.0625,\n        \"num_unique_values\": 2,\n        \"samples\": [\n          0.0625,\n          -1.0\n        ],\n        \"semantic_type\": \"\",\n        \"description\": \"\"\n      }\n    },\n    {\n      \"column\": 1,\n      \"properties\": {\n        \"dtype\": \"number\",\n        \"std\": 0.397747564417433,\n        \"min\": -0.5,\n        \"max\": 0.0625,\n        \"num_unique_values\": 2,\n        \"samples\": [\n          0.0625,\n          -0.5\n        ],\n        \"semantic_type\": \"\",\n        \"description\": \"\"\n      }\n    },\n    {\n      \"column\": 2,\n      \"properties\": {\n        \"dtype\": \"number\",\n        \"std\": 0.04419417382415922,\n        \"min\": 0.0,\n        \"max\": 0.0625,\n        \"num_unique_values\": 2,\n        \"samples\": [\n          0.0625,\n          0.0\n        ],\n        \"semantic_type\": \"\",\n        \"description\": \"\"\n      }\n    },\n    {\n      \"column\": 3,\n      \"properties\": {\n        \"dtype\": \"number\",\n        \"std\": 0.397747564417433,\n        \"min\": -0.5,\n        \"max\": 0.0625,\n        \"num_unique_values\": 2,\n        \"samples\": [\n          0.0625,\n          -0.5\n        ],\n        \"semantic_type\": \"\",\n        \"description\": \"\"\n      }\n    },\n    {\n      \"column\": 4,\n      \"properties\": {\n        \"dtype\": \"number\",\n        \"std\": 0.30935921676911454,\n        \"min\": 0.0625,\n        \"max\": 0.5,\n        \"num_unique_values\": 2,\n        \"samples\": [\n          0.0625,\n          0.5\n        ],\n        \"semantic_type\": \"\",\n        \"description\": \"\"\n      }\n    },\n    {\n      \"column\": 5,\n      \"properties\": {\n        \"dtype\": \"number\",\n        \"std\": 0.30935921676911454,\n        \"min\": 0.0625,\n        \"max\": 0.5,\n        \"num_unique_values\": 2,\n        \"samples\": [\n          0.0625,\n          0.5\n        ],\n        \"semantic_type\": \"\",\n        \"description\": \"\"\n      }\n    },\n    {\n      \"column\": 6,\n      \"properties\": {\n        \"dtype\": \"number\",\n        \"std\": 0.04419417382415922,\n        \"min\": 0.0,\n        \"max\": 0.0625,\n        \"num_unique_values\": 2,\n        \"samples\": [\n          0.0625,\n          0.0\n        ],\n        \"semantic_type\": \"\",\n        \"description\": \"\"\n      }\n    },\n    {\n      \"column\": 7,\n      \"properties\": {\n        \"dtype\": \"number\",\n        \"std\": 0.30935921676911454,\n        \"min\": 0.0625,\n        \"max\": 0.5,\n        \"num_unique_values\": 2,\n        \"samples\": [\n          0.0625,\n          0.5\n        ],\n        \"semantic_type\": \"\",\n        \"description\": \"\"\n      }\n    },\n    {\n      \"column\": 8,\n      \"properties\": {\n        \"dtype\": \"number\",\n        \"std\": 0.6629126073623883,\n        \"min\": 0.0625,\n        \"max\": 1.0,\n        \"num_unique_values\": 2,\n        \"samples\": [\n          0.0625,\n          1.0\n        ],\n        \"semantic_type\": \"\",\n        \"description\": \"\"\n      }\n    }\n  ]\n}"
            }
          },
          "metadata": {},
          "execution_count": 56
        }
      ]
    },
    {
      "cell_type": "code",
      "source": [
        "conv1 = np.array(df_algos.loc[0].values)\n",
        "conv2 = np.array(df_algos.loc[1].values)"
      ],
      "metadata": {
        "id": "KIKJcxJs2hs7"
      },
      "execution_count": 154,
      "outputs": []
    },
    {
      "cell_type": "code",
      "source": [
        "def print_conv(conv):\n",
        "    for i in range(0, len(conv), 3):\n",
        "        print(\" \".join(f\"{x:2}\" for x in conv[i:i+3]))\n",
        "\n",
        "print('Conv1')\n",
        "print_conv(conv1)\n",
        "print('Conv2')\n",
        "print_conv(conv2)"
      ],
      "metadata": {
        "colab": {
          "base_uri": "https://localhost:8080/"
        },
        "id": "e3ZPQkYr25g4",
        "outputId": "da896afb-e725-4336-b01b-d61e58319107"
      },
      "execution_count": 58,
      "outputs": [
        {
          "output_type": "stream",
          "name": "stdout",
          "text": [
            "Conv1\n",
            "-1.0 -0.5 0.0\n",
            "-0.5 0.5 0.5\n",
            "0.0 0.5 1.0\n",
            "Conv2\n",
            "0.0625 0.0625 0.0625\n",
            "0.0625 0.0625 0.0625\n",
            "0.0625 0.0625 0.0625\n"
          ]
        }
      ]
    },
    {
      "cell_type": "code",
      "source": [
        "plt.imshow(png_files[0], cmap='gray')\n",
        "plt.show()"
      ],
      "metadata": {
        "colab": {
          "base_uri": "https://localhost:8080/",
          "height": 432
        },
        "id": "5qlNW55C39Rc",
        "outputId": "4e340243-8d63-4979-9c87-ca1848746648"
      },
      "execution_count": 59,
      "outputs": [
        {
          "output_type": "display_data",
          "data": {
            "text/plain": [
              "<Figure size 640x480 with 1 Axes>"
            ],
            "image/png": "[encoded data removed]"
          },
          "metadata": {}
        }
      ]
    },
    {
      "cell_type": "code",
      "source": [
        "import re\n",
        "import torch\n",
        "\n",
        "def replace_non_printable(text, replacement=0):\n",
        "    texts = text.split()\n",
        "    result = []\n",
        "    for txt in texts:\n",
        "        try:\n",
        "            result.append(float(txt))\n",
        "        except:\n",
        "            result.append(replacement)\n",
        "    return result\n",
        "\n",
        "class MyDataset(Dataset):\n",
        "    def __init__(self, img_transforms=None):\n",
        "        super().__init__()\n",
        "        self.images = png_files\n",
        "        self.results = txt_files\n",
        "        self.img_transforms = img_transforms\n",
        "\n",
        "    def __getitem__(self, idx):\n",
        "        image = self.images[idx]\n",
        "        result = self.results[idx]\n",
        "        while (len(result.split()) < 4096):\n",
        "            idx += 1\n",
        "            image = self.images[idx]\n",
        "            result = self.results[idx]\n",
        "        if self.img_transforms:\n",
        "            image = self.img_transforms(image)\n",
        "        clean_text = replace_non_printable(result)\n",
        "        result = torch.tensor(clean_text, dtype=torch.float32).reshape(1, 64, 64)\n",
        "        return image, result\n",
        "\n",
        "    def __len__(self,):\n",
        "        return len(self.images)"
      ],
      "metadata": {
        "id": "HeDpnM6h4ikL"
      },
      "execution_count": 155,
      "outputs": []
    },
    {
      "cell_type": "code",
      "source": [
        "img_transforms = T.Compose([\n",
        "    T.ToTensor(),\n",
        "    T.Lambda(lambda x: x * 255.0)\n",
        "])\n",
        "\n",
        "dataset = MyDataset(img_transforms)\n",
        "img, res = dataset[2]\n",
        "print(img.shape, res.shape)"
      ],
      "metadata": {
        "colab": {
          "base_uri": "https://localhost:8080/"
        },
        "id": "FTBVjUE-6VkF",
        "outputId": "d852b2d0-e435-4c49-b173-c0d9de0d0517"
      },
      "execution_count": 156,
      "outputs": [
        {
          "output_type": "stream",
          "name": "stdout",
          "text": [
            "torch.Size([1, 64, 64]) torch.Size([1, 64, 64])\n"
          ]
        }
      ]
    },
    {
      "cell_type": "code",
      "source": [
        "img[:, 0:3, 0:3]"
      ],
      "metadata": {
        "colab": {
          "base_uri": "https://localhost:8080/"
        },
        "id": "EXZXLqu8ASzW",
        "outputId": "69b6ccd7-aedb-48a0-8f68-9e731b9b5cd6"
      },
      "execution_count": 157,
      "outputs": [
        {
          "output_type": "execute_result",
          "data": {
            "text/plain": [
              "tensor([[[195., 178., 163.],\n",
              "         [190., 169., 182.],\n",
              "         [193., 174., 187.]]])"
            ]
          },
          "metadata": {},
          "execution_count": 157
        }
      ]
    },
    {
      "cell_type": "code",
      "source": [
        "import torch.nn.functional as F\n",
        "\n",
        "class Convolution(nn.Module):\n",
        "    def __init__(self, k, weights, padding=1):\n",
        "        super().__init__()\n",
        "        self.k = k\n",
        "        self.padding = padding\n",
        "        # weights - tensor with shape: (1, 1, k, k)\n",
        "        self.weight = nn.Parameter(weights.unsqueeze(0).unsqueeze(0))  # shape: (1, 1, k, k)\n",
        "\n",
        "    def forward(self, x):\n",
        "        # x: (B, 1, H, W)\n",
        "        return F.conv2d(x, self.weight, padding=self.padding)"
      ],
      "metadata": {
        "id": "oBLslg3I9Vpd"
      },
      "execution_count": 158,
      "outputs": []
    },
    {
      "cell_type": "code",
      "source": [
        "class ConvNet(nn.Module):\n",
        "    def __init__(self, weights1, weights2, weights3):\n",
        "        super().__init__()\n",
        "        self.conv1 = Convolution(3, weights=weights1)\n",
        "        self.conv2 = Convolution(3, weights=weights2)\n",
        "        self.conv3 = Convolution(3, weights=weights3)\n",
        "\n",
        "    def forward(self, x):\n",
        "        x = self.conv1(x)\n",
        "        x = self.conv2(x)\n",
        "        x = self.conv3(x)\n",
        "        return x"
      ],
      "metadata": {
        "id": "9fDXv9hkB3DK"
      },
      "execution_count": 159,
      "outputs": []
    },
    {
      "cell_type": "code",
      "source": [
        "conv1 = torch.tensor(conv1.reshape(3, 3), dtype=torch.float32, requires_grad=False)\n",
        "conv2 = torch.tensor(conv2.reshape(3, 3), dtype=torch.float32, requires_grad=False)\n",
        "conv3 = torch.randn(3, 3, dtype=torch.float32) * 0.1"
      ],
      "metadata": {
        "id": "HWoL3jiiCzTy"
      },
      "execution_count": 160,
      "outputs": []
    },
    {
      "cell_type": "code",
      "source": [
        "conv1"
      ],
      "metadata": {
        "colab": {
          "base_uri": "https://localhost:8080/"
        },
        "id": "zzkb_OibI7Xq",
        "outputId": "278b90d9-43cc-4cad-9a95-e4798197c198"
      },
      "execution_count": 123,
      "outputs": [
        {
          "output_type": "execute_result",
          "data": {
            "text/plain": [
              "tensor([[-1.0000, -0.5000,  0.0000],\n",
              "        [-0.5000,  0.5000,  0.5000],\n",
              "        [ 0.0000,  0.5000,  1.0000]])"
            ]
          },
          "metadata": {},
          "execution_count": 123
        }
      ]
    },
    {
      "cell_type": "code",
      "source": [
        "conv3"
      ],
      "metadata": {
        "colab": {
          "base_uri": "https://localhost:8080/"
        },
        "id": "cQJvXVSORVTT",
        "outputId": "7e2aac1f-14e5-4222-b3be-64282e89ed7c"
      },
      "execution_count": 124,
      "outputs": [
        {
          "output_type": "execute_result",
          "data": {
            "text/plain": [
              "tensor([[-0.0790, -0.0906, -0.0261],\n",
              "        [-0.0547,  0.2117, -0.1712],\n",
              "        [ 0.0165,  0.1582,  0.0448]])"
            ]
          },
          "metadata": {},
          "execution_count": 124
        }
      ]
    },
    {
      "cell_type": "code",
      "source": [
        "model = ConvNet(conv1, conv2, conv3)"
      ],
      "metadata": {
        "id": "6DNRnS2WCoUH"
      },
      "execution_count": 68,
      "outputs": []
    },
    {
      "cell_type": "code",
      "source": [
        "rec_img = model(img)\n",
        "rec_img.shape"
      ],
      "metadata": {
        "colab": {
          "base_uri": "https://localhost:8080/"
        },
        "id": "bE6EkJ7VDipC",
        "outputId": "2121dcb6-4b2d-4cf0-8314-48ade0913de0"
      },
      "execution_count": 125,
      "outputs": [
        {
          "output_type": "execute_result",
          "data": {
            "text/plain": [
              "torch.Size([1, 64, 64])"
            ]
          },
          "metadata": {},
          "execution_count": 125
        }
      ]
    },
    {
      "cell_type": "code",
      "source": [
        "dataloader = DataLoader(dataset, batch_size=64, shuffle=True)"
      ],
      "metadata": {
        "id": "MsbGZLvkFgcQ"
      },
      "execution_count": 161,
      "outputs": []
    },
    {
      "cell_type": "code",
      "source": [
        "torch.manual_seed(42)\n",
        "models = [ConvNet(conv1.clone(), conv2.clone(), conv3.clone()),\n",
        "          ConvNet(conv1.clone(), conv3.clone(), conv2.clone()),\n",
        "          ConvNet(conv2.clone(), conv1.clone(), conv3.clone()),\n",
        "          ConvNet(conv2.clone(), conv3.clone(), conv1.clone()),\n",
        "          ConvNet(conv3.clone(), conv1.clone(), conv2.clone()),\n",
        "          ConvNet(conv3.clone(), conv2.clone(), conv1.clone())]\n",
        "epochs = 5\n",
        "optimizers = [optim.Adam(models[0].conv3.parameters(), lr=0.1),\n",
        "              optim.Adam(models[1].conv2.parameters(), lr=0.1),\n",
        "              optim.Adam(models[2].conv3.parameters(), lr=0.1),\n",
        "              optim.Adam(models[3].conv2.parameters(), lr=0.1),\n",
        "              optim.Adam(models[4].conv1.parameters(), lr=0.1),\n",
        "              optim.Adam(models[5].conv1.parameters(), lr=0.1)]\n",
        "criterion = nn.MSELoss()\n",
        "losses = defaultdict(list)\n",
        "\n",
        "for i, (model, optimizer) in enumerate(zip(models, optimizers)):\n",
        "    for epoch in range(epochs):\n",
        "        epoch_loss = 0.0\n",
        "        for inputs, targets in dataloader:\n",
        "            optimizer.zero_grad()\n",
        "            outputs = model(inputs)\n",
        "            loss = criterion(outputs, targets)\n",
        "            loss.backward()\n",
        "            optimizer.step()\n",
        "\n",
        "            epoch_loss += loss.item()\n",
        "\n",
        "        losses[i].append(epoch_loss/len(dataloader))\n"
      ],
      "metadata": {
        "id": "fhxSFD13Ph7r"
      },
      "execution_count": 129,
      "outputs": []
    },
    {
      "cell_type": "code",
      "source": [
        "epochs = list(losses.keys())\n",
        "values = list(losses.values())\n",
        "\n",
        "plt.figure(figsize=(8, 4))\n",
        "plt.plot(epochs, values, marker='o', linestyle='-')\n",
        "\n",
        "plt.title('Loss per ')\n",
        "plt.xlabel('Epoch')\n",
        "plt.ylabel('Loss')\n",
        "plt.grid(True)\n",
        "plt.tight_layout()\n",
        "plt.show()"
      ],
      "metadata": {
        "colab": {
          "base_uri": "https://localhost:8080/",
          "height": 407
        },
        "id": "RREAf22iFVJ6",
        "outputId": "28321fab-c534-4b07-eae0-8362a303bb18"
      },
      "execution_count": 130,
      "outputs": [
        {
          "output_type": "display_data",
          "data": {
            "text/plain": [
              "<Figure size 800x400 with 1 Axes>"
            ],
            "image/png": "[encoded data removed]"
          },
          "metadata": {}
        }
      ]
    },
    {
      "cell_type": "code",
      "source": [
        "import matplotlib.pyplot as plt\n",
        "\n",
        "model1_loss = losses[0]\n",
        "model2_loss = losses[1]\n",
        "model3_loss = losses[2]\n",
        "model4_loss = losses[3]\n",
        "model5_loss = losses[4]\n",
        "model6_loss = losses[5]\n",
        "\n",
        "epochs = list(range(1, 6))\n",
        "\n",
        "plt.figure(figsize=(12, 6))\n",
        "plt.style.use('ggplot')\n",
        "\n",
        "plt.plot(epochs, model1_loss, label='Model 1', marker='o')\n",
        "plt.plot(epochs, model2_loss, label='Model 2', marker='s')\n",
        "plt.plot(epochs, model3_loss, label='Model 3', marker='D')\n",
        "plt.plot(epochs, model4_loss, label='Model 4', marker='^')\n",
        "plt.plot(epochs, model5_loss, label='Model 5', marker='v')\n",
        "plt.plot(epochs, model6_loss, label='Model 6', marker='x')\n",
        "\n",
        "plt.title(\"Loss по эпохам для 6 моделей\", fontsize=16)\n",
        "plt.xlabel(\"Эпоха\", fontsize=14)\n",
        "plt.ylabel(\"Loss\", fontsize=14)\n",
        "plt.xticks(epochs)\n",
        "plt.legend(title=\"Модели\", fontsize=12)\n",
        "plt.grid(True)\n",
        "plt.tight_layout()\n",
        "\n",
        "plt.show()\n"
      ],
      "metadata": {
        "colab": {
          "base_uri": "https://localhost:8080/",
          "height": 607
        },
        "id": "Dei-3cWEaSiO",
        "outputId": "d9e63008-a1f3-4e78-ceb3-272119b87432"
      },
      "execution_count": 131,
      "outputs": [
        {
          "output_type": "display_data",
          "data": {
            "text/plain": [
              "<Figure size 1200x600 with 1 Axes>"
            ],
            "image/png": "[encoded data removed]"
          },
          "metadata": {}
        }
      ]
    },
    {
      "cell_type": "code",
      "source": [
        "for i in [2, 3, 5]:\n",
        "    print(i, losses[i][4])"
      ],
      "metadata": {
        "colab": {
          "base_uri": "https://localhost:8080/"
        },
        "id": "1YbVYlDpbDrI",
        "outputId": "9bfe2c26-19a4-4e3d-fd0a-57967f5ad1ef"
      },
      "execution_count": 133,
      "outputs": [
        {
          "output_type": "stream",
          "name": "stdout",
          "text": [
            "2 49.77292442321777\n",
            "3 3.8441567942500114\n",
            "5 3.666923888027668\n"
          ]
        }
      ]
    },
    {
      "cell_type": "code",
      "source": [
        "torch.manual_seed(42)\n",
        "models = [ConvNet(conv2.clone(), conv3.clone(), conv1.clone()),\n",
        "          ConvNet(conv3.clone(), conv2.clone(), conv1.clone())]\n",
        "epochs = 100\n",
        "optimizers = [optim.Adam(models[0].conv2.parameters(), lr=0.1),\n",
        "              optim.Adam(models[1].conv1.parameters(), lr=0.1)]\n",
        "criterion = nn.MSELoss()\n",
        "losses_3_5 = defaultdict(list)\n",
        "\n",
        "for i, (model, optimizer) in enumerate(zip(models, optimizers)):\n",
        "    for epoch in range(epochs):\n",
        "        epoch_loss = 0.0\n",
        "        for inputs, targets in dataloader:\n",
        "            optimizer.zero_grad()\n",
        "            outputs = model(inputs)\n",
        "            loss = criterion(outputs, targets)\n",
        "            loss.backward()\n",
        "            optimizer.step()\n",
        "\n",
        "            epoch_loss += loss.item()\n",
        "        print(f\"Epoch: {epoch}, loss: {epoch_loss/len(dataloader)}\")\n",
        "        losses_3_5[i].append(epoch_loss/len(dataloader))"
      ],
      "metadata": {
        "colab": {
          "base_uri": "https://localhost:8080/"
        },
        "id": "JoA3ga0CbVbo",
        "outputId": "c239084c-3652-4751-f131-272b3e84ac2c"
      },
      "execution_count": 137,
      "outputs": [
        {
          "output_type": "stream",
          "name": "stdout",
          "text": [
            "Epoch: 0, loss: 1663.8704085350037\n",
            "Epoch: 1, loss: 210.33751595020294\n",
            "Epoch: 2, loss: 49.7699099779129\n",
            "Epoch: 3, loss: 11.980654045939445\n",
            "Epoch: 4, loss: 4.034760445356369\n",
            "Epoch: 5, loss: 1.8169387131929398\n",
            "Epoch: 6, loss: 1.0010144039988518\n",
            "Epoch: 7, loss: 0.6426820233464241\n",
            "Epoch: 8, loss: 0.42721739038825035\n",
            "Epoch: 9, loss: 0.29152406845241785\n",
            "Epoch: 10, loss: 0.20445635449141264\n",
            "Epoch: 11, loss: 0.1487697698175907\n",
            "Epoch: 12, loss: 0.11415738146752119\n",
            "Epoch: 13, loss: 0.09146204218268394\n",
            "Epoch: 14, loss: 0.07717443024739623\n",
            "Epoch: 15, loss: 0.06785839586518705\n",
            "Epoch: 16, loss: 0.061467902502045035\n",
            "Epoch: 17, loss: 0.05735232005827129\n",
            "Epoch: 18, loss: 0.05432353727519512\n",
            "Epoch: 19, loss: 0.052046664990484715\n",
            "Epoch: 20, loss: 0.050233453745022416\n",
            "Epoch: 21, loss: 0.04845001851208508\n",
            "Epoch: 22, loss: 0.04701306880451739\n",
            "Epoch: 23, loss: 0.045472521567717195\n",
            "Epoch: 24, loss: 0.04422830976545811\n",
            "Epoch: 25, loss: 0.042837914545089006\n",
            "Epoch: 26, loss: 0.04166481108404696\n",
            "Epoch: 27, loss: 0.04026250750757754\n",
            "Epoch: 28, loss: 0.039158913772553205\n",
            "Epoch: 29, loss: 0.03801144869066775\n",
            "Epoch: 30, loss: 0.03654493857175112\n",
            "Epoch: 31, loss: 0.03538489271886647\n",
            "Epoch: 32, loss: 0.03417539829388261\n",
            "Epoch: 33, loss: 0.03323014487978071\n",
            "Epoch: 34, loss: 0.03206350177060813\n",
            "Epoch: 35, loss: 0.030929933884181082\n",
            "Epoch: 36, loss: 0.02973512385506183\n",
            "Epoch: 37, loss: 0.028899962780997157\n",
            "Epoch: 38, loss: 0.027727235457859933\n",
            "Epoch: 39, loss: 0.02675746032036841\n",
            "Epoch: 40, loss: 0.0257358968956396\n",
            "Epoch: 41, loss: 0.024868475273251534\n",
            "Epoch: 42, loss: 0.0238209527451545\n",
            "Epoch: 43, loss: 0.02288445644080639\n",
            "Epoch: 44, loss: 0.022033654036931694\n",
            "Epoch: 45, loss: 0.021189309074543417\n",
            "Epoch: 46, loss: 0.02029828226659447\n",
            "Epoch: 47, loss: 0.01959213602822274\n",
            "Epoch: 48, loss: 0.01871130708605051\n",
            "Epoch: 49, loss: 0.01801650458946824\n",
            "Epoch: 50, loss: 0.017282091779634356\n",
            "Epoch: 51, loss: 0.016568895720411092\n",
            "Epoch: 52, loss: 0.015992322587408125\n",
            "Epoch: 53, loss: 0.015222388552501798\n",
            "Epoch: 54, loss: 0.014639465021900833\n",
            "Epoch: 55, loss: 0.01402826327830553\n",
            "Epoch: 56, loss: 0.013450290134642273\n",
            "Epoch: 57, loss: 0.012852034473326057\n",
            "Epoch: 58, loss: 0.012399229919537902\n",
            "Epoch: 59, loss: 0.01185185182839632\n",
            "Epoch: 60, loss: 0.011354170273989439\n",
            "Epoch: 61, loss: 0.010911113175097853\n",
            "Epoch: 62, loss: 0.01045440841699019\n",
            "Epoch: 63, loss: 0.010014952160418034\n",
            "Epoch: 64, loss: 0.009649151877965778\n",
            "Epoch: 65, loss: 0.009248826652765274\n",
            "Epoch: 66, loss: 0.008862066984875128\n",
            "Epoch: 67, loss: 0.008504484867444262\n",
            "Epoch: 68, loss: 0.008144599822117016\n",
            "Epoch: 69, loss: 0.00784182408824563\n",
            "Epoch: 70, loss: 0.007512762182159349\n",
            "Epoch: 71, loss: 0.007214667712105438\n",
            "Epoch: 72, loss: 0.006950256327399984\n",
            "Epoch: 73, loss: 0.006684439489617944\n",
            "Epoch: 74, loss: 0.006427004875149578\n",
            "Epoch: 75, loss: 0.006199737428687513\n",
            "Epoch: 76, loss: 0.005985308322124183\n",
            "Epoch: 77, loss: 0.00576280799577944\n",
            "Epoch: 78, loss: 0.005558398872381076\n",
            "Epoch: 79, loss: 0.005371033999836072\n",
            "Epoch: 80, loss: 0.005174694204470143\n",
            "Epoch: 81, loss: 0.005001441692002118\n",
            "Epoch: 82, loss: 0.004857260355493054\n",
            "Epoch: 83, loss: 0.004692470072768629\n",
            "Epoch: 84, loss: 0.004540627065580338\n",
            "Epoch: 85, loss: 0.004418589160195552\n",
            "Epoch: 86, loss: 0.0042606639908626676\n",
            "Epoch: 87, loss: 0.004151487766648643\n",
            "Epoch: 88, loss: 0.0040241975511889905\n",
            "Epoch: 89, loss: 0.0039222993509611115\n",
            "Epoch: 90, loss: 0.0038035082689020783\n",
            "Epoch: 91, loss: 0.0036950646608602256\n",
            "Epoch: 92, loss: 0.003612702726968564\n",
            "Epoch: 93, loss: 0.003517545701470226\n",
            "Epoch: 94, loss: 0.0034385997569188476\n",
            "Epoch: 95, loss: 0.003355485125211999\n",
            "Epoch: 96, loss: 0.0032768211676739156\n",
            "Epoch: 97, loss: 0.0031951569981174543\n",
            "Epoch: 98, loss: 0.0031356391264125705\n",
            "Epoch: 99, loss: 0.003047154052183032\n",
            "Epoch: 0, loss: 1683.7112455368042\n",
            "Epoch: 1, loss: 234.6926633119583\n",
            "Epoch: 2, loss: 56.09817197918892\n",
            "Epoch: 3, loss: 12.40208251774311\n",
            "Epoch: 4, loss: 3.5967377573251724\n",
            "Epoch: 5, loss: 1.8478904366493225\n",
            "Epoch: 6, loss: 1.0355706103146076\n",
            "Epoch: 7, loss: 0.6691318526864052\n",
            "Epoch: 8, loss: 0.44186598621308804\n",
            "Epoch: 9, loss: 0.30184044875204563\n",
            "Epoch: 10, loss: 0.21135742869228125\n",
            "Epoch: 11, loss: 0.15343579556792974\n",
            "Epoch: 12, loss: 0.11695351544767618\n",
            "Epoch: 13, loss: 0.0933435671031475\n",
            "Epoch: 14, loss: 0.07818998349830508\n",
            "Epoch: 15, loss: 0.06840278464369476\n",
            "Epoch: 16, loss: 0.06185266748070717\n",
            "Epoch: 17, loss: 0.05697551276534796\n",
            "Epoch: 18, loss: 0.05364311346784234\n",
            "Epoch: 19, loss: 0.05141618591733277\n",
            "Epoch: 20, loss: 0.049074806505814195\n",
            "Epoch: 21, loss: 0.04737142357043922\n",
            "Epoch: 22, loss: 0.046057634288445115\n",
            "Epoch: 23, loss: 0.04475721321068704\n",
            "Epoch: 24, loss: 0.043586143059656024\n",
            "Epoch: 25, loss: 0.042275727493688464\n",
            "Epoch: 26, loss: 0.041014823131263256\n",
            "Epoch: 27, loss: 0.03995487536303699\n",
            "Epoch: 28, loss: 0.03870027209632099\n",
            "Epoch: 29, loss: 0.03770323051139712\n",
            "Epoch: 30, loss: 0.03643017495051026\n",
            "Epoch: 31, loss: 0.03540484327822924\n",
            "Epoch: 32, loss: 0.034406290389597416\n",
            "Epoch: 33, loss: 0.0334353600628674\n",
            "Epoch: 34, loss: 0.032267879927530885\n",
            "Epoch: 35, loss: 0.03126255061943084\n",
            "Epoch: 36, loss: 0.03002519381698221\n",
            "Epoch: 37, loss: 0.029227308346889913\n",
            "Epoch: 38, loss: 0.02807569014839828\n",
            "Epoch: 39, loss: 0.027198698953725398\n",
            "Epoch: 40, loss: 0.026206962415017188\n",
            "Epoch: 41, loss: 0.02531098190229386\n",
            "Epoch: 42, loss: 0.024492935044690967\n",
            "Epoch: 43, loss: 0.023478115675970912\n",
            "Epoch: 44, loss: 0.02272241865284741\n",
            "Epoch: 45, loss: 0.021866018301807344\n",
            "Epoch: 46, loss: 0.02103812259156257\n",
            "Epoch: 47, loss: 0.020242794533260167\n",
            "Epoch: 48, loss: 0.019428270286880434\n",
            "Epoch: 49, loss: 0.018814146984368563\n",
            "Epoch: 50, loss: 0.018089057062752545\n",
            "Epoch: 51, loss: 0.017316054611001164\n",
            "Epoch: 52, loss: 0.016717769496608526\n",
            "Epoch: 53, loss: 0.016058361274190247\n",
            "Epoch: 54, loss: 0.015426787140313536\n",
            "Epoch: 55, loss: 0.014820456854067743\n",
            "Epoch: 56, loss: 0.014295447850599885\n",
            "Epoch: 57, loss: 0.013673723267856985\n",
            "Epoch: 58, loss: 0.013103248609695584\n",
            "Epoch: 59, loss: 0.012634096201509237\n",
            "Epoch: 60, loss: 0.012139764323364943\n",
            "Epoch: 61, loss: 0.011678775423206389\n",
            "Epoch: 62, loss: 0.011166891374159604\n",
            "Epoch: 63, loss: 0.01072952669346705\n",
            "Epoch: 64, loss: 0.010290015605278313\n",
            "Epoch: 65, loss: 0.009879134537186474\n",
            "Epoch: 66, loss: 0.009507106093224138\n",
            "Epoch: 67, loss: 0.009146221855189651\n",
            "Epoch: 68, loss: 0.008774974034167826\n",
            "Epoch: 69, loss: 0.008454261958831921\n",
            "Epoch: 70, loss: 0.008132949995342642\n",
            "Epoch: 71, loss: 0.00781412230571732\n",
            "Epoch: 72, loss: 0.007503244443796575\n",
            "Epoch: 73, loss: 0.007228901202324778\n",
            "Epoch: 74, loss: 0.0069603948504664\n",
            "Epoch: 75, loss: 0.006701494887238368\n",
            "Epoch: 76, loss: 0.006487781851319596\n",
            "Epoch: 77, loss: 0.006217525311512873\n",
            "Epoch: 78, loss: 0.006001371541060507\n",
            "Epoch: 79, loss: 0.005812382529256865\n",
            "Epoch: 80, loss: 0.005580506287515163\n",
            "Epoch: 81, loss: 0.005400204652687535\n",
            "Epoch: 82, loss: 0.005215121083892882\n",
            "Epoch: 83, loss: 0.005055863904999569\n",
            "Epoch: 84, loss: 0.004911696625640616\n",
            "Epoch: 85, loss: 0.004732450062874705\n",
            "Epoch: 86, loss: 0.004593253048369661\n",
            "Epoch: 87, loss: 0.004457559029106051\n",
            "Epoch: 88, loss: 0.00432174933666829\n",
            "Epoch: 89, loss: 0.004177404916845262\n",
            "Epoch: 90, loss: 0.004088936446350999\n",
            "Epoch: 91, loss: 0.003954565298045054\n",
            "Epoch: 92, loss: 0.0038299818843370304\n",
            "Epoch: 93, loss: 0.0037411999219330028\n",
            "Epoch: 94, loss: 0.0036534423124976456\n",
            "Epoch: 95, loss: 0.0035515202034730464\n",
            "Epoch: 96, loss: 0.003459674640907906\n",
            "Epoch: 97, loss: 0.003379758825758472\n",
            "Epoch: 98, loss: 0.00330553283856716\n",
            "Epoch: 99, loss: 0.003222155704861507\n"
          ]
        }
      ]
    },
    {
      "cell_type": "code",
      "source": [
        "models[0].conv2.weight"
      ],
      "metadata": {
        "colab": {
          "base_uri": "https://localhost:8080/"
        },
        "id": "d1Q0mAU0b_Ap",
        "outputId": "cb9663a0-132d-4873-ccf2-5ad6fd199f79"
      },
      "execution_count": 138,
      "outputs": [
        {
          "output_type": "execute_result",
          "data": {
            "text/plain": [
              "Parameter containing:\n",
              "tensor([[[[0.1394, 0.2209, 0.1408],\n",
              "          [0.2289, 0.5485, 0.2209],\n",
              "          [0.1326, 0.2291, 0.1392]]]], requires_grad=True)"
            ]
          },
          "metadata": {},
          "execution_count": 138
        }
      ]
    },
    {
      "cell_type": "code",
      "source": [
        "models[1].conv1.weight"
      ],
      "metadata": {
        "colab": {
          "base_uri": "https://localhost:8080/"
        },
        "id": "Pk3pvEFzderM",
        "outputId": "a8f0935a-319a-406a-fb36-f52a750c36fc"
      },
      "execution_count": 139,
      "outputs": [
        {
          "output_type": "execute_result",
          "data": {
            "text/plain": [
              "Parameter containing:\n",
              "tensor([[[[0.1397, 0.2197, 0.1416],\n",
              "          [0.2293, 0.5492, 0.2198],\n",
              "          [0.1318, 0.2295, 0.1394]]]], requires_grad=True)"
            ]
          },
          "metadata": {},
          "execution_count": 139
        }
      ]
    },
    {
      "cell_type": "code",
      "source": [
        "df = pd.DataFrame([models[0].conv1.weight.detach().numpy().squeeze(0).squeeze(0).reshape(9),\n",
        "                   models[0].conv2.weight.detach().numpy().squeeze(0).squeeze(0).reshape(9),\n",
        "                   models[0].conv3.weight.detach().numpy().squeeze(0).squeeze(0).reshape(9)])"
      ],
      "metadata": {
        "id": "1N0TiYFXecAI"
      },
      "execution_count": 149,
      "outputs": []
    },
    {
      "cell_type": "code",
      "source": [
        "df"
      ],
      "metadata": {
        "colab": {
          "base_uri": "https://localhost:8080/",
          "height": 142
        },
        "id": "eZIGITgpisDj",
        "outputId": "eb574d39-2d6c-4a5d-8c8c-d1932784f05f"
      },
      "execution_count": 150,
      "outputs": [
        {
          "output_type": "execute_result",
          "data": {
            "text/plain": [
              "          0        1         2        3         4         5         6  \\\n",
              "0  0.062500  0.06250  0.062500  0.06250  0.062500  0.062500  0.062500   \n",
              "1  0.139371  0.22086  0.140769  0.22885  0.548483  0.220919  0.132572   \n",
              "2 -1.000000 -0.50000  0.000000 -0.50000  0.500000  0.500000  0.000000   \n",
              "\n",
              "         7         8  \n",
              "0  0.06250  0.062500  \n",
              "1  0.22907  0.139193  \n",
              "2  0.50000  1.000000  "
            ],
            "text/html": [
              "\n",
              "  <div id=\"df-4078e7d9-3b39-473a-b227-6b6ebc72a0a0\" class=\"colab-df-container\">\n",
              "    <div>\n",
              "<style scoped>\n",
              "    .dataframe tbody tr th:only-of-type {\n",
              "        vertical-align: middle;\n",
              "    }\n",
              "\n",
              "    .dataframe tbody tr th {\n",
              "        vertical-align: top;\n",
              "    }\n",
              "\n",
              "    .dataframe thead th {\n",
              "        text-align: right;\n",
              "    }\n",
              "</style>\n",
              "<table border=\"1\" class=\"dataframe\">\n",
              "  <thead>\n",
              "    <tr style=\"text-align: right;\">\n",
              "      <th></th>\n",
              "      <th>0</th>\n",
              "      <th>1</th>\n",
              "      <th>2</th>\n",
              "      <th>3</th>\n",
              "      <th>4</th>\n",
              "      <th>5</th>\n",
              "      <th>6</th>\n",
              "      <th>7</th>\n",
              "      <th>8</th>\n",
              "    </tr>\n",
              "  </thead>\n",
              "  <tbody>\n",
              "    <tr>\n",
              "      <th>0</th>\n",
              "      <td>0.062500</td>\n",
              "      <td>0.06250</td>\n",
              "      <td>0.062500</td>\n",
              "      <td>0.06250</td>\n",
              "      <td>0.062500</td>\n",
              "      <td>0.062500</td>\n",
              "      <td>0.062500</td>\n",
              "      <td>0.06250</td>\n",
              "      <td>0.062500</td>\n",
              "    </tr>\n",
              "    <tr>\n",
              "      <th>1</th>\n",
              "      <td>0.139371</td>\n",
              "      <td>0.22086</td>\n",
              "      <td>0.140769</td>\n",
              "      <td>0.22885</td>\n",
              "      <td>0.548483</td>\n",
              "      <td>0.220919</td>\n",
              "      <td>0.132572</td>\n",
              "      <td>0.22907</td>\n",
              "      <td>0.139193</td>\n",
              "    </tr>\n",
              "    <tr>\n",
              "      <th>2</th>\n",
              "      <td>-1.000000</td>\n",
              "      <td>-0.50000</td>\n",
              "      <td>0.000000</td>\n",
              "      <td>-0.50000</td>\n",
              "      <td>0.500000</td>\n",
              "      <td>0.500000</td>\n",
              "      <td>0.000000</td>\n",
              "      <td>0.50000</td>\n",
              "      <td>1.000000</td>\n",
              "    </tr>\n",
              "  </tbody>\n",
              "</table>\n",
              "</div>\n",
              "    <div class=\"colab-df-buttons\">\n",
              "\n",
              "  <div class=\"colab-df-container\">\n",
              "    <button class=\"colab-df-convert\" onclick=\"convertToInteractive('df-4078e7d9-3b39-473a-b227-6b6ebc72a0a0')\"\n",
              "            title=\"Convert this dataframe to an interactive table.\"\n",
              "            style=\"display:none;\">\n",
              "\n",
              "  <svg xmlns=\"http://www.w3.org/2000/svg\" height=\"24px\" viewBox=\"0 -960 960 960\">\n",
              "    <path d=\"M120-120v-720h720v720H120Zm60-500h600v-160H180v160Zm220 220h160v-160H400v160Zm0 220h160v-160H400v160ZM180-400h160v-160H180v160Zm440 0h160v-160H620v160ZM180-180h160v-160H180v160Zm440 0h160v-160H620v160Z\"/>\n",
              "  </svg>\n",
              "    </button>\n",
              "\n",
              "  <style>\n",
              "    .colab-df-container {\n",
              "      display:flex;\n",
              "      gap: 12px;\n",
              "    }\n",
              "\n",
              "    .colab-df-convert {\n",
              "      background-color: #E8F0FE;\n",
              "      border: none;\n",
              "      border-radius: 50%;\n",
              "      cursor: pointer;\n",
              "      display: none;\n",
              "      fill: #1967D2;\n",
              "      height: 32px;\n",
              "      padding: 0 0 0 0;\n",
              "      width: 32px;\n",
              "    }\n",
              "\n",
              "    .colab-df-convert:hover {\n",
              "      background-color: #E2EBFA;\n",
              "      box-shadow: 0px 1px 2px rgba(60, 64, 67, 0.3), 0px 1px 3px 1px rgba(60, 64, 67, 0.15);\n",
              "      fill: #174EA6;\n",
              "    }\n",
              "\n",
              "    .colab-df-buttons div {\n",
              "      margin-bottom: 4px;\n",
              "    }\n",
              "\n",
              "    [theme=dark] .colab-df-convert {\n",
              "      background-color: #3B4455;\n",
              "      fill: #D2E3FC;\n",
              "    }\n",
              "\n",
              "    [theme=dark] .colab-df-convert:hover {\n",
              "      background-color: #434B5C;\n",
              "      box-shadow: 0px 1px 3px 1px rgba(0, 0, 0, 0.15);\n",
              "      filter: drop-shadow(0px 1px 2px rgba(0, 0, 0, 0.3));\n",
              "      fill: #FFFFFF;\n",
              "    }\n",
              "  </style>\n",
              "\n",
              "    <script>\n",
              "      const buttonEl =\n",
              "        document.querySelector('#df-4078e7d9-3b39-473a-b227-6b6ebc72a0a0 button.colab-df-convert');\n",
              "      buttonEl.style.display =\n",
              "        google.colab.kernel.accessAllowed ? 'block' : 'none';\n",
              "\n",
              "      async function convertToInteractive(key) {\n",
              "        const element = document.querySelector('#df-4078e7d9-3b39-473a-b227-6b6ebc72a0a0');\n",
              "        const dataTable =\n",
              "          await google.colab.kernel.invokeFunction('convertToInteractive',\n",
              "                                                    [key], {});\n",
              "        if (!dataTable) return;\n",
              "\n",
              "        const docLinkHtml = 'Like what you see? Visit the ' +\n",
              "          '<a target=\"_blank\" href=https://colab.research.google.com/notebooks/data_table.ipynb>data table notebook</a>'\n",
              "          + ' to learn more about interactive tables.';\n",
              "        element.innerHTML = '';\n",
              "        dataTable['output_type'] = 'display_data';\n",
              "        await google.colab.output.renderOutput(dataTable, element);\n",
              "        const docLink = document.createElement('div');\n",
              "        docLink.innerHTML = docLinkHtml;\n",
              "        element.appendChild(docLink);\n",
              "      }\n",
              "    </script>\n",
              "  </div>\n",
              "\n",
              "\n",
              "    <div id=\"df-38c6d6bb-83d6-4276-92b9-d089299e872a\">\n",
              "      <button class=\"colab-df-quickchart\" onclick=\"quickchart('df-38c6d6bb-83d6-4276-92b9-d089299e872a')\"\n",
              "                title=\"Suggest charts\"\n",
              "                style=\"display:none;\">\n",
              "\n",
              "<svg xmlns=\"http://www.w3.org/2000/svg\" height=\"24px\"viewBox=\"0 0 24 24\"\n",
              "     width=\"24px\">\n",
              "    <g>\n",
              "        <path d=\"M19 3H5c-1.1 0-2 .9-2 2v14c0 1.1.9 2 2 2h14c1.1 0 2-.9 2-2V5c0-1.1-.9-2-2-2zM9 17H7v-7h2v7zm4 0h-2V7h2v10zm4 0h-2v-4h2v4z\"/>\n",
              "    </g>\n",
              "</svg>\n",
              "      </button>\n",
              "\n",
              "<style>\n",
              "  .colab-df-quickchart {\n",
              "      --bg-color: #E8F0FE;\n",
              "      --fill-color: #1967D2;\n",
              "      --hover-bg-color: #E2EBFA;\n",
              "      --hover-fill-color: #174EA6;\n",
              "      --disabled-fill-color: #AAA;\n",
              "      --disabled-bg-color: #DDD;\n",
              "  }\n",
              "\n",
              "  [theme=dark] .colab-df-quickchart {\n",
              "      --bg-color: #3B4455;\n",
              "      --fill-color: #D2E3FC;\n",
              "      --hover-bg-color: #434B5C;\n",
              "      --hover-fill-color: #FFFFFF;\n",
              "      --disabled-bg-color: #3B4455;\n",
              "      --disabled-fill-color: #666;\n",
              "  }\n",
              "\n",
              "  .colab-df-quickchart {\n",
              "    background-color: var(--bg-color);\n",
              "    border: none;\n",
              "    border-radius: 50%;\n",
              "    cursor: pointer;\n",
              "    display: none;\n",
              "    fill: var(--fill-color);\n",
              "    height: 32px;\n",
              "    padding: 0;\n",
              "    width: 32px;\n",
              "  }\n",
              "\n",
              "  .colab-df-quickchart:hover {\n",
              "    background-color: var(--hover-bg-color);\n",
              "    box-shadow: 0 1px 2px rgba(60, 64, 67, 0.3), 0 1px 3px 1px rgba(60, 64, 67, 0.15);\n",
              "    fill: var(--button-hover-fill-color);\n",
              "  }\n",
              "\n",
              "  .colab-df-quickchart-complete:disabled,\n",
              "  .colab-df-quickchart-complete:disabled:hover {\n",
              "    background-color: var(--disabled-bg-color);\n",
              "    fill: var(--disabled-fill-color);\n",
              "    box-shadow: none;\n",
              "  }\n",
              "\n",
              "  .colab-df-spinner {\n",
              "    border: 2px solid var(--fill-color);\n",
              "    border-color: transparent;\n",
              "    border-bottom-color: var(--fill-color);\n",
              "    animation:\n",
              "      spin 1s steps(1) infinite;\n",
              "  }\n",
              "\n",
              "  @keyframes spin {\n",
              "    0% {\n",
              "      border-color: transparent;\n",
              "      border-bottom-color: var(--fill-color);\n",
              "      border-left-color: var(--fill-color);\n",
              "    }\n",
              "    20% {\n",
              "      border-color: transparent;\n",
              "      border-left-color: var(--fill-color);\n",
              "      border-top-color: var(--fill-color);\n",
              "    }\n",
              "    30% {\n",
              "      border-color: transparent;\n",
              "      border-left-color: var(--fill-color);\n",
              "      border-top-color: var(--fill-color);\n",
              "      border-right-color: var(--fill-color);\n",
              "    }\n",
              "    40% {\n",
              "      border-color: transparent;\n",
              "      border-right-color: var(--fill-color);\n",
              "      border-top-color: var(--fill-color);\n",
              "    }\n",
              "    60% {\n",
              "      border-color: transparent;\n",
              "      border-right-color: var(--fill-color);\n",
              "    }\n",
              "    80% {\n",
              "      border-color: transparent;\n",
              "      border-right-color: var(--fill-color);\n",
              "      border-bottom-color: var(--fill-color);\n",
              "    }\n",
              "    90% {\n",
              "      border-color: transparent;\n",
              "      border-bottom-color: var(--fill-color);\n",
              "    }\n",
              "  }\n",
              "</style>\n",
              "\n",
              "      <script>\n",
              "        async function quickchart(key) {\n",
              "          const quickchartButtonEl =\n",
              "            document.querySelector('#' + key + ' button');\n",
              "          quickchartButtonEl.disabled = true;  // To prevent multiple clicks.\n",
              "          quickchartButtonEl.classList.add('colab-df-spinner');\n",
              "          try {\n",
              "            const charts = await google.colab.kernel.invokeFunction(\n",
              "                'suggestCharts', [key], {});\n",
              "          } catch (error) {\n",
              "            console.error('Error during call to suggestCharts:', error);\n",
              "          }\n",
              "          quickchartButtonEl.classList.remove('colab-df-spinner');\n",
              "          quickchartButtonEl.classList.add('colab-df-quickchart-complete');\n",
              "        }\n",
              "        (() => {\n",
              "          let quickchartButtonEl =\n",
              "            document.querySelector('#df-38c6d6bb-83d6-4276-92b9-d089299e872a button');\n",
              "          quickchartButtonEl.style.display =\n",
              "            google.colab.kernel.accessAllowed ? 'block' : 'none';\n",
              "        })();\n",
              "      </script>\n",
              "    </div>\n",
              "    </div>\n",
              "  </div>\n"
            ],
            "application/vnd.google.colaboratory.intrinsic+json": {
              "type": "dataframe",
              "variable_name": "df",
              "summary": "{\n  \"name\": \"df\",\n  \"rows\": 3,\n  \"fields\": [\n    {\n      \"column\": 0,\n      \"properties\": {\n        \"dtype\": \"float32\",\n        \"num_unique_values\": 3,\n        \"samples\": [\n          0.0625,\n          0.1393709033727646,\n          -1.0\n        ],\n        \"semantic_type\": \"\",\n        \"description\": \"\"\n      }\n    },\n    {\n      \"column\": 1,\n      \"properties\": {\n        \"dtype\": \"float32\",\n        \"num_unique_values\": 3,\n        \"samples\": [\n          0.0625,\n          0.22085995972156525,\n          -0.5\n        ],\n        \"semantic_type\": \"\",\n        \"description\": \"\"\n      }\n    },\n    {\n      \"column\": 2,\n      \"properties\": {\n        \"dtype\": \"float32\",\n        \"num_unique_values\": 3,\n        \"samples\": [\n          0.0625,\n          0.14076925814151764,\n          0.0\n        ],\n        \"semantic_type\": \"\",\n        \"description\": \"\"\n      }\n    },\n    {\n      \"column\": 3,\n      \"properties\": {\n        \"dtype\": \"float32\",\n        \"num_unique_values\": 3,\n        \"samples\": [\n          0.0625,\n          0.22885020077228546,\n          -0.5\n        ],\n        \"semantic_type\": \"\",\n        \"description\": \"\"\n      }\n    },\n    {\n      \"column\": 4,\n      \"properties\": {\n        \"dtype\": \"float32\",\n        \"num_unique_values\": 3,\n        \"samples\": [\n          0.0625,\n          0.5484827756881714,\n          0.5\n        ],\n        \"semantic_type\": \"\",\n        \"description\": \"\"\n      }\n    },\n    {\n      \"column\": 5,\n      \"properties\": {\n        \"dtype\": \"float32\",\n        \"num_unique_values\": 3,\n        \"samples\": [\n          0.0625,\n          0.22091881930828094,\n          0.5\n        ],\n        \"semantic_type\": \"\",\n        \"description\": \"\"\n      }\n    },\n    {\n      \"column\": 6,\n      \"properties\": {\n        \"dtype\": \"float32\",\n        \"num_unique_values\": 3,\n        \"samples\": [\n          0.0625,\n          0.13257238268852234,\n          0.0\n        ],\n        \"semantic_type\": \"\",\n        \"description\": \"\"\n      }\n    },\n    {\n      \"column\": 7,\n      \"properties\": {\n        \"dtype\": \"float32\",\n        \"num_unique_values\": 3,\n        \"samples\": [\n          0.0625,\n          0.22907033562660217,\n          0.5\n        ],\n        \"semantic_type\": \"\",\n        \"description\": \"\"\n      }\n    },\n    {\n      \"column\": 8,\n      \"properties\": {\n        \"dtype\": \"float32\",\n        \"num_unique_values\": 3,\n        \"samples\": [\n          0.0625,\n          0.13919250667095184,\n          1.0\n        ],\n        \"semantic_type\": \"\",\n        \"description\": \"\"\n      }\n    }\n  ]\n}"
            }
          },
          "metadata": {},
          "execution_count": 150
        }
      ]
    },
    {
      "cell_type": "code",
      "source": [
        "df.to_csv(\"reconstructed_algos.csv\", header=False, index=False)"
      ],
      "metadata": {
        "id": "92wXfE0JiuLP"
      },
      "execution_count": 152,
      "outputs": []
    },
    {
      "cell_type": "code",
      "source": [
        "df = pd.DataFrame([models[1].conv1.weight.detach().numpy().squeeze(0).squeeze(0).reshape(9),\n",
        "                   models[1].conv2.weight.detach().numpy().squeeze(0).squeeze(0).reshape(9),\n",
        "                   models[1].conv3.weight.detach().numpy().squeeze(0).squeeze(0).reshape(9)])"
      ],
      "metadata": {
        "id": "dFRyDUyljCNK"
      },
      "execution_count": 144,
      "outputs": []
    },
    {
      "cell_type": "code",
      "source": [
        "df.loc[0] = [0.15, 0.2, 0.15, 0.2, 0.6, 0.2, 0.15, 0.2, 0.15]"
      ],
      "metadata": {
        "id": "-d46CKgtjHRi"
      },
      "execution_count": 111,
      "outputs": []
    },
    {
      "cell_type": "code",
      "source": [
        "df"
      ],
      "metadata": {
        "colab": {
          "base_uri": "https://localhost:8080/",
          "height": 142
        },
        "id": "MWwkQpvKjTUq",
        "outputId": "c125d65e-018a-4976-b839-0d2fb9bab987"
      },
      "execution_count": 112,
      "outputs": [
        {
          "output_type": "execute_result",
          "data": {
            "text/plain": [
              "        0       1       2       3       4       5       6       7       8\n",
              "0  0.1500  0.2000  0.1500  0.2000  0.6000  0.2000  0.1500  0.2000  0.1500\n",
              "1  0.0625  0.0625  0.0625  0.0625  0.0625  0.0625  0.0625  0.0625  0.0625\n",
              "2 -1.0000 -0.5000  0.0000 -0.5000  0.5000  0.5000  0.0000  0.5000  1.0000"
            ],
            "text/html": [
              "\n",
              "  <div id=\"df-174c93ef-c2d7-4f95-84f6-9f7f6979b989\" class=\"colab-df-container\">\n",
              "    <div>\n",
              "<style scoped>\n",
              "    .dataframe tbody tr th:only-of-type {\n",
              "        vertical-align: middle;\n",
              "    }\n",
              "\n",
              "    .dataframe tbody tr th {\n",
              "        vertical-align: top;\n",
              "    }\n",
              "\n",
              "    .dataframe thead th {\n",
              "        text-align: right;\n",
              "    }\n",
              "</style>\n",
              "<table border=\"1\" class=\"dataframe\">\n",
              "  <thead>\n",
              "    <tr style=\"text-align: right;\">\n",
              "      <th></th>\n",
              "      <th>0</th>\n",
              "      <th>1</th>\n",
              "      <th>2</th>\n",
              "      <th>3</th>\n",
              "      <th>4</th>\n",
              "      <th>5</th>\n",
              "      <th>6</th>\n",
              "      <th>7</th>\n",
              "      <th>8</th>\n",
              "    </tr>\n",
              "  </thead>\n",
              "  <tbody>\n",
              "    <tr>\n",
              "      <th>0</th>\n",
              "      <td>0.1500</td>\n",
              "      <td>0.2000</td>\n",
              "      <td>0.1500</td>\n",
              "      <td>0.2000</td>\n",
              "      <td>0.6000</td>\n",
              "      <td>0.2000</td>\n",
              "      <td>0.1500</td>\n",
              "      <td>0.2000</td>\n",
              "      <td>0.1500</td>\n",
              "    </tr>\n",
              "    <tr>\n",
              "      <th>1</th>\n",
              "      <td>0.0625</td>\n",
              "      <td>0.0625</td>\n",
              "      <td>0.0625</td>\n",
              "      <td>0.0625</td>\n",
              "      <td>0.0625</td>\n",
              "      <td>0.0625</td>\n",
              "      <td>0.0625</td>\n",
              "      <td>0.0625</td>\n",
              "      <td>0.0625</td>\n",
              "    </tr>\n",
              "    <tr>\n",
              "      <th>2</th>\n",
              "      <td>-1.0000</td>\n",
              "      <td>-0.5000</td>\n",
              "      <td>0.0000</td>\n",
              "      <td>-0.5000</td>\n",
              "      <td>0.5000</td>\n",
              "      <td>0.5000</td>\n",
              "      <td>0.0000</td>\n",
              "      <td>0.5000</td>\n",
              "      <td>1.0000</td>\n",
              "    </tr>\n",
              "  </tbody>\n",
              "</table>\n",
              "</div>\n",
              "    <div class=\"colab-df-buttons\">\n",
              "\n",
              "  <div class=\"colab-df-container\">\n",
              "    <button class=\"colab-df-convert\" onclick=\"convertToInteractive('df-174c93ef-c2d7-4f95-84f6-9f7f6979b989')\"\n",
              "            title=\"Convert this dataframe to an interactive table.\"\n",
              "            style=\"display:none;\">\n",
              "\n",
              "  <svg xmlns=\"http://www.w3.org/2000/svg\" height=\"24px\" viewBox=\"0 -960 960 960\">\n",
              "    <path d=\"M120-120v-720h720v720H120Zm60-500h600v-160H180v160Zm220 220h160v-160H400v160Zm0 220h160v-160H400v160ZM180-400h160v-160H180v160Zm440 0h160v-160H620v160ZM180-180h160v-160H180v160Zm440 0h160v-160H620v160Z\"/>\n",
              "  </svg>\n",
              "    </button>\n",
              "\n",
              "  <style>\n",
              "    .colab-df-container {\n",
              "      display:flex;\n",
              "      gap: 12px;\n",
              "    }\n",
              "\n",
              "    .colab-df-convert {\n",
              "      background-color: #E8F0FE;\n",
              "      border: none;\n",
              "      border-radius: 50%;\n",
              "      cursor: pointer;\n",
              "      display: none;\n",
              "      fill: #1967D2;\n",
              "      height: 32px;\n",
              "      padding: 0 0 0 0;\n",
              "      width: 32px;\n",
              "    }\n",
              "\n",
              "    .colab-df-convert:hover {\n",
              "      background-color: #E2EBFA;\n",
              "      box-shadow: 0px 1px 2px rgba(60, 64, 67, 0.3), 0px 1px 3px 1px rgba(60, 64, 67, 0.15);\n",
              "      fill: #174EA6;\n",
              "    }\n",
              "\n",
              "    .colab-df-buttons div {\n",
              "      margin-bottom: 4px;\n",
              "    }\n",
              "\n",
              "    [theme=dark] .colab-df-convert {\n",
              "      background-color: #3B4455;\n",
              "      fill: #D2E3FC;\n",
              "    }\n",
              "\n",
              "    [theme=dark] .colab-df-convert:hover {\n",
              "      background-color: #434B5C;\n",
              "      box-shadow: 0px 1px 3px 1px rgba(0, 0, 0, 0.15);\n",
              "      filter: drop-shadow(0px 1px 2px rgba(0, 0, 0, 0.3));\n",
              "      fill: #FFFFFF;\n",
              "    }\n",
              "  </style>\n",
              "\n",
              "    <script>\n",
              "      const buttonEl =\n",
              "        document.querySelector('#df-174c93ef-c2d7-4f95-84f6-9f7f6979b989 button.colab-df-convert');\n",
              "      buttonEl.style.display =\n",
              "        google.colab.kernel.accessAllowed ? 'block' : 'none';\n",
              "\n",
              "      async function convertToInteractive(key) {\n",
              "        const element = document.querySelector('#df-174c93ef-c2d7-4f95-84f6-9f7f6979b989');\n",
              "        const dataTable =\n",
              "          await google.colab.kernel.invokeFunction('convertToInteractive',\n",
              "                                                    [key], {});\n",
              "        if (!dataTable) return;\n",
              "\n",
              "        const docLinkHtml = 'Like what you see? Visit the ' +\n",
              "          '<a target=\"_blank\" href=https://colab.research.google.com/notebooks/data_table.ipynb>data table notebook</a>'\n",
              "          + ' to learn more about interactive tables.';\n",
              "        element.innerHTML = '';\n",
              "        dataTable['output_type'] = 'display_data';\n",
              "        await google.colab.output.renderOutput(dataTable, element);\n",
              "        const docLink = document.createElement('div');\n",
              "        docLink.innerHTML = docLinkHtml;\n",
              "        element.appendChild(docLink);\n",
              "      }\n",
              "    </script>\n",
              "  </div>\n",
              "\n",
              "\n",
              "    <div id=\"df-5a442e92-9197-4955-ac8e-772e52635fe0\">\n",
              "      <button class=\"colab-df-quickchart\" onclick=\"quickchart('df-5a442e92-9197-4955-ac8e-772e52635fe0')\"\n",
              "                title=\"Suggest charts\"\n",
              "                style=\"display:none;\">\n",
              "\n",
              "<svg xmlns=\"http://www.w3.org/2000/svg\" height=\"24px\"viewBox=\"0 0 24 24\"\n",
              "     width=\"24px\">\n",
              "    <g>\n",
              "        <path d=\"M19 3H5c-1.1 0-2 .9-2 2v14c0 1.1.9 2 2 2h14c1.1 0 2-.9 2-2V5c0-1.1-.9-2-2-2zM9 17H7v-7h2v7zm4 0h-2V7h2v10zm4 0h-2v-4h2v4z\"/>\n",
              "    </g>\n",
              "</svg>\n",
              "      </button>\n",
              "\n",
              "<style>\n",
              "  .colab-df-quickchart {\n",
              "      --bg-color: #E8F0FE;\n",
              "      --fill-color: #1967D2;\n",
              "      --hover-bg-color: #E2EBFA;\n",
              "      --hover-fill-color: #174EA6;\n",
              "      --disabled-fill-color: #AAA;\n",
              "      --disabled-bg-color: #DDD;\n",
              "  }\n",
              "\n",
              "  [theme=dark] .colab-df-quickchart {\n",
              "      --bg-color: #3B4455;\n",
              "      --fill-color: #D2E3FC;\n",
              "      --hover-bg-color: #434B5C;\n",
              "      --hover-fill-color: #FFFFFF;\n",
              "      --disabled-bg-color: #3B4455;\n",
              "      --disabled-fill-color: #666;\n",
              "  }\n",
              "\n",
              "  .colab-df-quickchart {\n",
              "    background-color: var(--bg-color);\n",
              "    border: none;\n",
              "    border-radius: 50%;\n",
              "    cursor: pointer;\n",
              "    display: none;\n",
              "    fill: var(--fill-color);\n",
              "    height: 32px;\n",
              "    padding: 0;\n",
              "    width: 32px;\n",
              "  }\n",
              "\n",
              "  .colab-df-quickchart:hover {\n",
              "    background-color: var(--hover-bg-color);\n",
              "    box-shadow: 0 1px 2px rgba(60, 64, 67, 0.3), 0 1px 3px 1px rgba(60, 64, 67, 0.15);\n",
              "    fill: var(--button-hover-fill-color);\n",
              "  }\n",
              "\n",
              "  .colab-df-quickchart-complete:disabled,\n",
              "  .colab-df-quickchart-complete:disabled:hover {\n",
              "    background-color: var(--disabled-bg-color);\n",
              "    fill: var(--disabled-fill-color);\n",
              "    box-shadow: none;\n",
              "  }\n",
              "\n",
              "  .colab-df-spinner {\n",
              "    border: 2px solid var(--fill-color);\n",
              "    border-color: transparent;\n",
              "    border-bottom-color: var(--fill-color);\n",
              "    animation:\n",
              "      spin 1s steps(1) infinite;\n",
              "  }\n",
              "\n",
              "  @keyframes spin {\n",
              "    0% {\n",
              "      border-color: transparent;\n",
              "      border-bottom-color: var(--fill-color);\n",
              "      border-left-color: var(--fill-color);\n",
              "    }\n",
              "    20% {\n",
              "      border-color: transparent;\n",
              "      border-left-color: var(--fill-color);\n",
              "      border-top-color: var(--fill-color);\n",
              "    }\n",
              "    30% {\n",
              "      border-color: transparent;\n",
              "      border-left-color: var(--fill-color);\n",
              "      border-top-color: var(--fill-color);\n",
              "      border-right-color: var(--fill-color);\n",
              "    }\n",
              "    40% {\n",
              "      border-color: transparent;\n",
              "      border-right-color: var(--fill-color);\n",
              "      border-top-color: var(--fill-color);\n",
              "    }\n",
              "    60% {\n",
              "      border-color: transparent;\n",
              "      border-right-color: var(--fill-color);\n",
              "    }\n",
              "    80% {\n",
              "      border-color: transparent;\n",
              "      border-right-color: var(--fill-color);\n",
              "      border-bottom-color: var(--fill-color);\n",
              "    }\n",
              "    90% {\n",
              "      border-color: transparent;\n",
              "      border-bottom-color: var(--fill-color);\n",
              "    }\n",
              "  }\n",
              "</style>\n",
              "\n",
              "      <script>\n",
              "        async function quickchart(key) {\n",
              "          const quickchartButtonEl =\n",
              "            document.querySelector('#' + key + ' button');\n",
              "          quickchartButtonEl.disabled = true;  // To prevent multiple clicks.\n",
              "          quickchartButtonEl.classList.add('colab-df-spinner');\n",
              "          try {\n",
              "            const charts = await google.colab.kernel.invokeFunction(\n",
              "                'suggestCharts', [key], {});\n",
              "          } catch (error) {\n",
              "            console.error('Error during call to suggestCharts:', error);\n",
              "          }\n",
              "          quickchartButtonEl.classList.remove('colab-df-spinner');\n",
              "          quickchartButtonEl.classList.add('colab-df-quickchart-complete');\n",
              "        }\n",
              "        (() => {\n",
              "          let quickchartButtonEl =\n",
              "            document.querySelector('#df-5a442e92-9197-4955-ac8e-772e52635fe0 button');\n",
              "          quickchartButtonEl.style.display =\n",
              "            google.colab.kernel.accessAllowed ? 'block' : 'none';\n",
              "        })();\n",
              "      </script>\n",
              "    </div>\n",
              "    </div>\n",
              "  </div>\n"
            ],
            "application/vnd.google.colaboratory.intrinsic+json": {
              "type": "dataframe",
              "variable_name": "df",
              "summary": "{\n  \"name\": \"df\",\n  \"rows\": 3,\n  \"fields\": [\n    {\n      \"column\": 0,\n      \"properties\": {\n        \"dtype\": \"float32\",\n        \"num_unique_values\": 3,\n        \"samples\": [\n          0.15000000596046448,\n          0.0625,\n          -1.0\n        ],\n        \"semantic_type\": \"\",\n        \"description\": \"\"\n      }\n    },\n    {\n      \"column\": 1,\n      \"properties\": {\n        \"dtype\": \"float32\",\n        \"num_unique_values\": 3,\n        \"samples\": [\n          0.20000000298023224,\n          0.0625,\n          -0.5\n        ],\n        \"semantic_type\": \"\",\n        \"description\": \"\"\n      }\n    },\n    {\n      \"column\": 2,\n      \"properties\": {\n        \"dtype\": \"float32\",\n        \"num_unique_values\": 3,\n        \"samples\": [\n          0.15000000596046448,\n          0.0625,\n          0.0\n        ],\n        \"semantic_type\": \"\",\n        \"description\": \"\"\n      }\n    },\n    {\n      \"column\": 3,\n      \"properties\": {\n        \"dtype\": \"float32\",\n        \"num_unique_values\": 3,\n        \"samples\": [\n          0.20000000298023224,\n          0.0625,\n          -0.5\n        ],\n        \"semantic_type\": \"\",\n        \"description\": \"\"\n      }\n    },\n    {\n      \"column\": 4,\n      \"properties\": {\n        \"dtype\": \"float32\",\n        \"num_unique_values\": 3,\n        \"samples\": [\n          0.6000000238418579,\n          0.0625,\n          0.5\n        ],\n        \"semantic_type\": \"\",\n        \"description\": \"\"\n      }\n    },\n    {\n      \"column\": 5,\n      \"properties\": {\n        \"dtype\": \"float32\",\n        \"num_unique_values\": 3,\n        \"samples\": [\n          0.20000000298023224,\n          0.0625,\n          0.5\n        ],\n        \"semantic_type\": \"\",\n        \"description\": \"\"\n      }\n    },\n    {\n      \"column\": 6,\n      \"properties\": {\n        \"dtype\": \"float32\",\n        \"num_unique_values\": 3,\n        \"samples\": [\n          0.15000000596046448,\n          0.0625,\n          0.0\n        ],\n        \"semantic_type\": \"\",\n        \"description\": \"\"\n      }\n    },\n    {\n      \"column\": 7,\n      \"properties\": {\n        \"dtype\": \"float32\",\n        \"num_unique_values\": 3,\n        \"samples\": [\n          0.20000000298023224,\n          0.0625,\n          0.5\n        ],\n        \"semantic_type\": \"\",\n        \"description\": \"\"\n      }\n    },\n    {\n      \"column\": 8,\n      \"properties\": {\n        \"dtype\": \"float32\",\n        \"num_unique_values\": 3,\n        \"samples\": [\n          0.15000000596046448,\n          0.0625,\n          1.0\n        ],\n        \"semantic_type\": \"\",\n        \"description\": \"\"\n      }\n    }\n  ]\n}"
            }
          },
          "metadata": {},
          "execution_count": 112
        }
      ]
    },
    {
      "cell_type": "code",
      "source": [
        "df.to_csv(\"reconstructed_algos.csv\", header=False, index=False)"
      ],
      "metadata": {
        "id": "QXlKbq2kjgcS"
      },
      "execution_count": 113,
      "outputs": []
    },
    {
      "cell_type": "code",
      "source": [
        "torch.manual_seed(42)\n",
        "models = [ConvNet(conv2.clone(), conv3.clone(), conv1.clone())]\n",
        "epochs = 400\n",
        "optimizers = [optim.Adam(models[0].conv2.parameters(), lr=0.1)]\n",
        "criterion = nn.MSELoss()\n",
        "losses_3_5 = defaultdict(list)\n",
        "\n",
        "for i, (model, optimizer) in enumerate(zip(models, optimizers)):\n",
        "    for epoch in range(epochs):\n",
        "        epoch_loss = 0.0\n",
        "        for inputs, targets in dataloader:\n",
        "            optimizer.zero_grad()\n",
        "            outputs = model(inputs)\n",
        "            loss = criterion(outputs, targets)\n",
        "            loss.backward()\n",
        "            optimizer.step()\n",
        "\n",
        "            epoch_loss += loss.item()\n",
        "        print(f\"Epoch: {epoch}, loss: {epoch_loss/len(dataloader)}\")\n",
        "        losses_3_5[i].append(epoch_loss/len(dataloader))"
      ],
      "metadata": {
        "colab": {
          "base_uri": "https://localhost:8080/",
          "height": 1000
        },
        "id": "qRcMJIRfrVT8",
        "outputId": "50fe06b0-c7bc-4281-9a24-6ca04928f0eb"
      },
      "execution_count": 163,
      "outputs": [
        {
          "output_type": "stream",
          "name": "stdout",
          "text": [
            "Epoch: 0, loss: 1123.5216933488846\n",
            "Epoch: 1, loss: 152.90231728553772\n",
            "Epoch: 2, loss: 37.102502793073654\n",
            "Epoch: 3, loss: 10.301355674862862\n",
            "Epoch: 4, loss: 2.9711603298783302\n",
            "Epoch: 5, loss: 1.2281791791319847\n",
            "Epoch: 6, loss: 0.587274307385087\n",
            "Epoch: 7, loss: 0.3025332326069474\n",
            "Epoch: 8, loss: 0.17828820645809174\n",
            "Epoch: 9, loss: 0.1238693525083363\n",
            "Epoch: 10, loss: 0.0986113054677844\n",
            "Epoch: 11, loss: 0.08562050852924585\n",
            "Epoch: 12, loss: 0.07809647405520082\n",
            "Epoch: 13, loss: 0.07196855754591525\n",
            "Epoch: 14, loss: 0.06728749140165746\n",
            "Epoch: 15, loss: 0.0628144764341414\n",
            "Epoch: 16, loss: 0.058468280360102654\n",
            "Epoch: 17, loss: 0.05472176801413298\n",
            "Epoch: 18, loss: 0.051071491092443466\n",
            "Epoch: 19, loss: 0.04764462518505752\n",
            "Epoch: 20, loss: 0.04443372250534594\n",
            "Epoch: 21, loss: 0.04115143558010459\n",
            "Epoch: 22, loss: 0.03825323423370719\n",
            "Epoch: 23, loss: 0.03536397323478013\n",
            "Epoch: 24, loss: 0.0328170188004151\n",
            "Epoch: 25, loss: 0.030331283225677907\n",
            "Epoch: 26, loss: 0.02808209357317537\n",
            "Epoch: 27, loss: 0.025867877528071404\n",
            "Epoch: 28, loss: 0.023951803101226687\n",
            "Epoch: 29, loss: 0.022129691555164754\n",
            "Epoch: 30, loss: 0.02028283814433962\n",
            "Epoch: 31, loss: 0.018705710652284324\n",
            "Epoch: 32, loss: 0.017222265945747495\n",
            "Epoch: 33, loss: 0.015964152582455426\n",
            "Epoch: 34, loss: 0.014677359373308718\n",
            "Epoch: 35, loss: 0.013515321246813983\n",
            "Epoch: 36, loss: 0.012406274036038667\n",
            "Epoch: 37, loss: 0.011499184416607022\n",
            "Epoch: 38, loss: 0.010564389696810395\n",
            "Epoch: 39, loss: 0.009751925768796355\n",
            "Epoch: 40, loss: 0.008982326835393906\n",
            "Epoch: 41, loss: 0.008316672523505986\n",
            "Epoch: 42, loss: 0.007650765299331397\n",
            "Epoch: 43, loss: 0.007059782190481201\n",
            "Epoch: 44, loss: 0.006534144835313782\n",
            "Epoch: 45, loss: 0.00604532437864691\n",
            "Epoch: 46, loss: 0.005582625686656684\n",
            "Epoch: 47, loss: 0.005194015189772472\n",
            "Epoch: 48, loss: 0.004794220556505024\n",
            "Epoch: 49, loss: 0.004459779112949036\n",
            "Epoch: 50, loss: 0.0041388224344700575\n",
            "Epoch: 51, loss: 0.00384170567849651\n",
            "Epoch: 52, loss: 0.0035908465943066403\n",
            "Epoch: 53, loss: 0.003317819835501723\n",
            "Epoch: 54, loss: 0.00309621513588354\n",
            "Epoch: 55, loss: 0.002882292101276107\n",
            "Epoch: 56, loss: 0.0026860621583182365\n",
            "Epoch: 57, loss: 0.0024988881923491135\n",
            "Epoch: 58, loss: 0.002346132998354733\n",
            "Epoch: 59, loss: 0.0021844200527993962\n",
            "Epoch: 60, loss: 0.0020393555823829956\n",
            "Epoch: 61, loss: 0.0019107707485090941\n",
            "Epoch: 62, loss: 0.0017857372004073113\n",
            "Epoch: 63, loss: 0.0016692864737706259\n",
            "Epoch: 64, loss: 0.0015695890760980546\n",
            "Epoch: 65, loss: 0.001469488262955565\n",
            "Epoch: 66, loss: 0.0013757271954091266\n",
            "Epoch: 67, loss: 0.0012898155255243182\n",
            "Epoch: 68, loss: 0.0012072231838828884\n",
            "Epoch: 69, loss: 0.001136630104156211\n",
            "Epoch: 70, loss: 0.0010651641059666872\n",
            "Epoch: 71, loss: 0.0010005191252275836\n",
            "Epoch: 72, loss: 0.0009433940213057213\n",
            "Epoch: 73, loss: 0.0008881258581823204\n",
            "Epoch: 74, loss: 0.0008364887908101082\n",
            "Epoch: 75, loss: 0.0007903524674475193\n",
            "Epoch: 76, loss: 0.0007476773462258279\n",
            "Epoch: 77, loss: 0.0007055248970573302\n",
            "Epoch: 78, loss: 0.0006675353470200207\n",
            "Epoch: 79, loss: 0.0006327745722956024\n",
            "Epoch: 80, loss: 0.0005983698101772461\n",
            "Epoch: 81, loss: 0.0005680725807906128\n",
            "Epoch: 82, loss: 0.0005419064327725209\n",
            "Epoch: 83, loss: 0.0005146583080204437\n",
            "Epoch: 84, loss: 0.0004899469495285302\n",
            "Epoch: 85, loss: 0.0004691395843110513\n",
            "Epoch: 86, loss: 0.0004454059035197133\n",
            "Epoch: 87, loss: 0.00042774485882546287\n",
            "Epoch: 88, loss: 0.0004087648976565106\n",
            "Epoch: 89, loss: 0.0003931282462872332\n",
            "Epoch: 90, loss: 0.00037636677734553814\n",
            "Epoch: 91, loss: 0.00036116272895014845\n",
            "Epoch: 92, loss: 0.00034906407199741807\n",
            "Epoch: 93, loss: 0.0003362087027198868\n",
            "Epoch: 94, loss: 0.00032520617514819605\n",
            "Epoch: 95, loss: 0.000314275825076038\n",
            "Epoch: 96, loss: 0.00030410765702981735\n",
            "Epoch: 97, loss: 0.00029400390667433385\n",
            "Epoch: 98, loss: 0.00028618260694202036\n",
            "Epoch: 99, loss: 0.0002760761080935481\n",
            "Epoch: 100, loss: 0.0002693929809538531\n",
            "Epoch: 101, loss: 0.0002613863707665587\n",
            "Epoch: 102, loss: 0.00025496377475064946\n",
            "Epoch: 103, loss: 0.00024869892968126805\n",
            "Epoch: 104, loss: 0.00024120419766404666\n",
            "Epoch: 105, loss: 0.00023644881821383024\n",
            "Epoch: 106, loss: 0.00023155534563557012\n",
            "Epoch: 107, loss: 0.0002247044021714828\n",
            "Epoch: 108, loss: 0.00021965853920846712\n",
            "Epoch: 109, loss: 0.0002159516079700552\n",
            "Epoch: 110, loss: 0.00021022224245825782\n",
            "Epoch: 111, loss: 0.00020549273176584393\n",
            "Epoch: 112, loss: 0.00020120527733524796\n",
            "Epoch: 113, loss: 0.00019696007620950695\n",
            "Epoch: 114, loss: 0.00019327073550812202\n",
            "Epoch: 115, loss: 0.00019011646509170532\n",
            "Epoch: 116, loss: 0.00018721471224125708\n",
            "Epoch: 117, loss: 0.00018269541578774806\n",
            "Epoch: 118, loss: 0.0001786231086953194\n",
            "Epoch: 119, loss: 0.0001762323736329563\n",
            "Epoch: 120, loss: 0.000171616342413472\n",
            "Epoch: 121, loss: 0.00016822760517243296\n",
            "Epoch: 122, loss: 0.00016524583224963862\n",
            "Epoch: 123, loss: 0.00016237136787822237\n",
            "Epoch: 124, loss: 0.00015972790697560413\n",
            "Epoch: 125, loss: 0.00015626006415914162\n",
            "Epoch: 126, loss: 0.00015299625374609604\n",
            "Epoch: 127, loss: 0.00015055528547236463\n",
            "Epoch: 128, loss: 0.00014728677797393175\n",
            "Epoch: 129, loss: 0.00014504152841254836\n",
            "Epoch: 130, loss: 0.00014162886782287387\n",
            "Epoch: 131, loss: 0.0001393226784784929\n",
            "Epoch: 132, loss: 0.00013701013358513592\n",
            "Epoch: 133, loss: 0.00013476803542289417\n",
            "Epoch: 134, loss: 0.00013171416458135354\n",
            "Epoch: 135, loss: 0.0001292521747018327\n",
            "Epoch: 136, loss: 0.00012583735997395706\n",
            "Epoch: 137, loss: 0.00012429714251993573\n",
            "Epoch: 138, loss: 0.00012108193413951085\n",
            "Epoch: 139, loss: 0.00011892984866790357\n",
            "Epoch: 140, loss: 0.00011620598070294363\n",
            "Epoch: 141, loss: 0.00011399378809073824\n",
            "Epoch: 142, loss: 0.00011206188582946197\n",
            "Epoch: 143, loss: 0.00010915533721345128\n",
            "Epoch: 144, loss: 0.00010714179052229156\n",
            "Epoch: 145, loss: 0.00010476074794496526\n",
            "Epoch: 146, loss: 0.00010239015455226763\n",
            "Epoch: 147, loss: 0.00010011838139689644\n",
            "Epoch: 148, loss: 9.763441994437017e-05\n",
            "Epoch: 149, loss: 9.616394208933343e-05\n",
            "Epoch: 150, loss: 9.389774959345232e-05\n",
            "Epoch: 151, loss: 9.137496317634941e-05\n",
            "Epoch: 152, loss: 8.967012308858102e-05\n",
            "Epoch: 153, loss: 8.764558242546627e-05\n",
            "Epoch: 154, loss: 8.568903058403521e-05\n",
            "Epoch: 155, loss: 8.363363940588897e-05\n",
            "Epoch: 156, loss: 8.195760165108368e-05\n",
            "Epoch: 157, loss: 7.963890675455332e-05\n",
            "Epoch: 158, loss: 7.765191458020126e-05\n",
            "Epoch: 159, loss: 7.608482064824784e-05\n",
            "Epoch: 160, loss: 7.429763127220212e-05\n",
            "Epoch: 161, loss: 7.27649849068257e-05\n",
            "Epoch: 162, loss: 7.04319536453113e-05\n",
            "Epoch: 163, loss: 6.874245309518301e-05\n",
            "Epoch: 164, loss: 6.694577882626618e-05\n",
            "Epoch: 165, loss: 6.518443092318194e-05\n",
            "Epoch: 166, loss: 6.365046442624589e-05\n",
            "Epoch: 167, loss: 6.202805730026739e-05\n",
            "Epoch: 168, loss: 6.029271321494889e-05\n",
            "Epoch: 169, loss: 5.911842686145974e-05\n",
            "Epoch: 170, loss: 5.73414477003098e-05\n",
            "Epoch: 171, loss: 5.5835869716247544e-05\n",
            "Epoch: 172, loss: 5.419293893282884e-05\n",
            "Epoch: 173, loss: 5.327501094143372e-05\n",
            "Epoch: 174, loss: 5.167786321180756e-05\n",
            "Epoch: 175, loss: 5.231991804066638e-05\n",
            "Epoch: 176, loss: 4.917584146824083e-05\n",
            "Epoch: 177, loss: 4.713732369054924e-05\n",
            "Epoch: 178, loss: 5.0518213811301393e-05\n",
            "Epoch: 179, loss: 6.0877419400640065e-05\n",
            "Epoch: 180, loss: 0.00106829426567856\n",
            "Epoch: 181, loss: 0.24797709484118968\n",
            "Epoch: 182, loss: 21.007309632375836\n",
            "Epoch: 183, loss: 27.886814370169304\n",
            "Epoch: 184, loss: 7.335111806169152\n",
            "Epoch: 185, loss: 2.2726301504299045\n",
            "Epoch: 186, loss: 1.5959160290658474\n",
            "Epoch: 187, loss: 0.7458348355721682\n",
            "Epoch: 188, loss: 0.4088953639566171\n",
            "Epoch: 189, loss: 0.1600242737767985\n",
            "Epoch: 190, loss: 0.07047848396632617\n",
            "Epoch: 191, loss: 0.018595310521050123\n",
            "Epoch: 192, loss: 0.004615768049916369\n",
            "Epoch: 193, loss: 0.0007132179025575169\n",
            "Epoch: 194, loss: 0.00035485572300331114\n",
            "Epoch: 195, loss: 0.00017955816099402\n",
            "Epoch: 196, loss: 9.658457690875366e-05\n",
            "Epoch: 197, loss: 6.270850190048805e-05\n",
            "Epoch: 198, loss: 4.106731898900762e-05\n",
            "Epoch: 199, loss: 3.0510144028994546e-05\n",
            "Epoch: 200, loss: 2.65184668251095e-05\n",
            "Epoch: 201, loss: 2.517810082736105e-05\n",
            "Epoch: 202, loss: 2.4455525476696494e-05\n",
            "Epoch: 203, loss: 2.3606482841387333e-05\n",
            "Epoch: 204, loss: 2.313202924142388e-05\n",
            "Epoch: 205, loss: 2.263998783291754e-05\n",
            "Epoch: 206, loss: 2.1951599023850576e-05\n",
            "Epoch: 207, loss: 2.1387142169260187e-05\n",
            "Epoch: 208, loss: 2.0804650944228342e-05\n",
            "Epoch: 209, loss: 2.0436639943000046e-05\n",
            "Epoch: 210, loss: 1.9873714109053253e-05\n",
            "Epoch: 211, loss: 1.9222398350393632e-05\n",
            "Epoch: 212, loss: 1.867368303010153e-05\n",
            "Epoch: 213, loss: 1.843897473463585e-05\n",
            "Epoch: 214, loss: 1.7652819110480777e-05\n",
            "Epoch: 215, loss: 1.735547328962639e-05\n",
            "Epoch: 216, loss: 3.05057671994291e-05\n",
            "Epoch: 217, loss: 0.00012546190350803954\n",
            "Epoch: 218, loss: 0.0016713656314095715\n",
            "Epoch: 219, loss: 0.05724615942745004\n",
            "Epoch: 220, loss: 2.975149843841791\n",
            "Epoch: 221, loss: 17.921199709177017\n",
            "Epoch: 222, loss: 10.552216825046344\n",
            "Epoch: 223, loss: 1.1039102581562474\n",
            "Epoch: 224, loss: 0.088291498250328\n",
            "Epoch: 225, loss: 0.015462428436876507\n",
            "Epoch: 226, loss: 0.00476478772907285\n",
            "Epoch: 227, loss: 0.0013864968432244495\n",
            "Epoch: 228, loss: 0.0004774139356413798\n",
            "Epoch: 229, loss: 7.066511722086943e-05\n",
            "Epoch: 230, loss: 2.9288102211921796e-05\n"
          ]
        },
        {
          "output_type": "error",
          "ename": "KeyboardInterrupt",
          "evalue": "",
          "traceback": [
            "\u001b[0;31m---------------------------------------------------------------------------\u001b[0m",
            "\u001b[0;31mKeyboardInterrupt\u001b[0m                         Traceback (most recent call last)",
            "\u001b[0;32m<ipython-input-163-5b47ed7bf031>\u001b[0m in \u001b[0;36m<cell line: 0>\u001b[0;34m()\u001b[0m\n\u001b[1;32m      9\u001b[0m     \u001b[0;32mfor\u001b[0m \u001b[0mepoch\u001b[0m \u001b[0;32min\u001b[0m \u001b[0mrange\u001b[0m\u001b[0;34m(\u001b[0m\u001b[0mepochs\u001b[0m\u001b[0;34m)\u001b[0m\u001b[0;34m:\u001b[0m\u001b[0;34m\u001b[0m\u001b[0;34m\u001b[0m\u001b[0m\n\u001b[1;32m     10\u001b[0m         \u001b[0mepoch_loss\u001b[0m \u001b[0;34m=\u001b[0m \u001b[0;36m0.0\u001b[0m\u001b[0;34m\u001b[0m\u001b[0;34m\u001b[0m\u001b[0m\n\u001b[0;32m---> 11\u001b[0;31m         \u001b[0;32mfor\u001b[0m \u001b[0minputs\u001b[0m\u001b[0;34m,\u001b[0m \u001b[0mtargets\u001b[0m \u001b[0;32min\u001b[0m \u001b[0mdataloader\u001b[0m\u001b[0;34m:\u001b[0m\u001b[0;34m\u001b[0m\u001b[0;34m\u001b[0m\u001b[0m\n\u001b[0m\u001b[1;32m     12\u001b[0m             \u001b[0moptimizer\u001b[0m\u001b[0;34m.\u001b[0m\u001b[0mzero_grad\u001b[0m\u001b[0;34m(\u001b[0m\u001b[0;34m)\u001b[0m\u001b[0;34m\u001b[0m\u001b[0;34m\u001b[0m\u001b[0m\n\u001b[1;32m     13\u001b[0m             \u001b[0moutputs\u001b[0m \u001b[0;34m=\u001b[0m \u001b[0mmodel\u001b[0m\u001b[0;34m(\u001b[0m\u001b[0minputs\u001b[0m\u001b[0;34m)\u001b[0m\u001b[0;34m\u001b[0m\u001b[0;34m\u001b[0m\u001b[0m\n",
            "\u001b[0;32m/usr/local/lib/python3.11/dist-packages/torch/utils/data/dataloader.py\u001b[0m in \u001b[0;36m__next__\u001b[0;34m(self)\u001b[0m\n\u001b[1;32m    706\u001b[0m                 \u001b[0;31m# TODO(https://github.com/pytorch/pytorch/issues/76750)\u001b[0m\u001b[0;34m\u001b[0m\u001b[0;34m\u001b[0m\u001b[0m\n\u001b[1;32m    707\u001b[0m                 \u001b[0mself\u001b[0m\u001b[0;34m.\u001b[0m\u001b[0m_reset\u001b[0m\u001b[0;34m(\u001b[0m\u001b[0;34m)\u001b[0m  \u001b[0;31m# type: ignore[call-arg]\u001b[0m\u001b[0;34m\u001b[0m\u001b[0;34m\u001b[0m\u001b[0m\n\u001b[0;32m--> 708\u001b[0;31m             \u001b[0mdata\u001b[0m \u001b[0;34m=\u001b[0m \u001b[0mself\u001b[0m\u001b[0;34m.\u001b[0m\u001b[0m_next_data\u001b[0m\u001b[0;34m(\u001b[0m\u001b[0;34m)\u001b[0m\u001b[0;34m\u001b[0m\u001b[0;34m\u001b[0m\u001b[0m\n\u001b[0m\u001b[1;32m    709\u001b[0m             \u001b[0mself\u001b[0m\u001b[0;34m.\u001b[0m\u001b[0m_num_yielded\u001b[0m \u001b[0;34m+=\u001b[0m \u001b[0;36m1\u001b[0m\u001b[0;34m\u001b[0m\u001b[0;34m\u001b[0m\u001b[0m\n\u001b[1;32m    710\u001b[0m             if (\n",
            "\u001b[0;32m/usr/local/lib/python3.11/dist-packages/torch/utils/data/dataloader.py\u001b[0m in \u001b[0;36m_next_data\u001b[0;34m(self)\u001b[0m\n\u001b[1;32m    762\u001b[0m     \u001b[0;32mdef\u001b[0m \u001b[0m_next_data\u001b[0m\u001b[0;34m(\u001b[0m\u001b[0mself\u001b[0m\u001b[0;34m)\u001b[0m\u001b[0;34m:\u001b[0m\u001b[0;34m\u001b[0m\u001b[0;34m\u001b[0m\u001b[0m\n\u001b[1;32m    763\u001b[0m         \u001b[0mindex\u001b[0m \u001b[0;34m=\u001b[0m \u001b[0mself\u001b[0m\u001b[0;34m.\u001b[0m\u001b[0m_next_index\u001b[0m\u001b[0;34m(\u001b[0m\u001b[0;34m)\u001b[0m  \u001b[0;31m# may raise StopIteration\u001b[0m\u001b[0;34m\u001b[0m\u001b[0;34m\u001b[0m\u001b[0m\n\u001b[0;32m--> 764\u001b[0;31m         \u001b[0mdata\u001b[0m \u001b[0;34m=\u001b[0m \u001b[0mself\u001b[0m\u001b[0;34m.\u001b[0m\u001b[0m_dataset_fetcher\u001b[0m\u001b[0;34m.\u001b[0m\u001b[0mfetch\u001b[0m\u001b[0;34m(\u001b[0m\u001b[0mindex\u001b[0m\u001b[0;34m)\u001b[0m  \u001b[0;31m# may raise StopIteration\u001b[0m\u001b[0;34m\u001b[0m\u001b[0;34m\u001b[0m\u001b[0m\n\u001b[0m\u001b[1;32m    765\u001b[0m         \u001b[0;32mif\u001b[0m \u001b[0mself\u001b[0m\u001b[0;34m.\u001b[0m\u001b[0m_pin_memory\u001b[0m\u001b[0;34m:\u001b[0m\u001b[0;34m\u001b[0m\u001b[0;34m\u001b[0m\u001b[0m\n\u001b[1;32m    766\u001b[0m             \u001b[0mdata\u001b[0m \u001b[0;34m=\u001b[0m \u001b[0m_utils\u001b[0m\u001b[0;34m.\u001b[0m\u001b[0mpin_memory\u001b[0m\u001b[0;34m.\u001b[0m\u001b[0mpin_memory\u001b[0m\u001b[0;34m(\u001b[0m\u001b[0mdata\u001b[0m\u001b[0;34m,\u001b[0m \u001b[0mself\u001b[0m\u001b[0;34m.\u001b[0m\u001b[0m_pin_memory_device\u001b[0m\u001b[0;34m)\u001b[0m\u001b[0;34m\u001b[0m\u001b[0;34m\u001b[0m\u001b[0m\n",
            "\u001b[0;32m/usr/local/lib/python3.11/dist-packages/torch/utils/data/_utils/fetch.py\u001b[0m in \u001b[0;36mfetch\u001b[0;34m(self, possibly_batched_index)\u001b[0m\n\u001b[1;32m     50\u001b[0m                 \u001b[0mdata\u001b[0m \u001b[0;34m=\u001b[0m \u001b[0mself\u001b[0m\u001b[0;34m.\u001b[0m\u001b[0mdataset\u001b[0m\u001b[0;34m.\u001b[0m\u001b[0m__getitems__\u001b[0m\u001b[0;34m(\u001b[0m\u001b[0mpossibly_batched_index\u001b[0m\u001b[0;34m)\u001b[0m\u001b[0;34m\u001b[0m\u001b[0;34m\u001b[0m\u001b[0m\n\u001b[1;32m     51\u001b[0m             \u001b[0;32melse\u001b[0m\u001b[0;34m:\u001b[0m\u001b[0;34m\u001b[0m\u001b[0;34m\u001b[0m\u001b[0m\n\u001b[0;32m---> 52\u001b[0;31m                 \u001b[0mdata\u001b[0m \u001b[0;34m=\u001b[0m \u001b[0;34m[\u001b[0m\u001b[0mself\u001b[0m\u001b[0;34m.\u001b[0m\u001b[0mdataset\u001b[0m\u001b[0;34m[\u001b[0m\u001b[0midx\u001b[0m\u001b[0;34m]\u001b[0m \u001b[0;32mfor\u001b[0m \u001b[0midx\u001b[0m \u001b[0;32min\u001b[0m \u001b[0mpossibly_batched_index\u001b[0m\u001b[0;34m]\u001b[0m\u001b[0;34m\u001b[0m\u001b[0;34m\u001b[0m\u001b[0m\n\u001b[0m\u001b[1;32m     53\u001b[0m         \u001b[0;32melse\u001b[0m\u001b[0;34m:\u001b[0m\u001b[0;34m\u001b[0m\u001b[0;34m\u001b[0m\u001b[0m\n\u001b[1;32m     54\u001b[0m             \u001b[0mdata\u001b[0m \u001b[0;34m=\u001b[0m \u001b[0mself\u001b[0m\u001b[0;34m.\u001b[0m\u001b[0mdataset\u001b[0m\u001b[0;34m[\u001b[0m\u001b[0mpossibly_batched_index\u001b[0m\u001b[0;34m]\u001b[0m\u001b[0;34m\u001b[0m\u001b[0;34m\u001b[0m\u001b[0m\n",
            "\u001b[0;32m/usr/local/lib/python3.11/dist-packages/torch/utils/data/_utils/fetch.py\u001b[0m in \u001b[0;36m<listcomp>\u001b[0;34m(.0)\u001b[0m\n\u001b[1;32m     50\u001b[0m                 \u001b[0mdata\u001b[0m \u001b[0;34m=\u001b[0m \u001b[0mself\u001b[0m\u001b[0;34m.\u001b[0m\u001b[0mdataset\u001b[0m\u001b[0;34m.\u001b[0m\u001b[0m__getitems__\u001b[0m\u001b[0;34m(\u001b[0m\u001b[0mpossibly_batched_index\u001b[0m\u001b[0;34m)\u001b[0m\u001b[0;34m\u001b[0m\u001b[0;34m\u001b[0m\u001b[0m\n\u001b[1;32m     51\u001b[0m             \u001b[0;32melse\u001b[0m\u001b[0;34m:\u001b[0m\u001b[0;34m\u001b[0m\u001b[0;34m\u001b[0m\u001b[0m\n\u001b[0;32m---> 52\u001b[0;31m                 \u001b[0mdata\u001b[0m \u001b[0;34m=\u001b[0m \u001b[0;34m[\u001b[0m\u001b[0mself\u001b[0m\u001b[0;34m.\u001b[0m\u001b[0mdataset\u001b[0m\u001b[0;34m[\u001b[0m\u001b[0midx\u001b[0m\u001b[0;34m]\u001b[0m \u001b[0;32mfor\u001b[0m \u001b[0midx\u001b[0m \u001b[0;32min\u001b[0m \u001b[0mpossibly_batched_index\u001b[0m\u001b[0;34m]\u001b[0m\u001b[0;34m\u001b[0m\u001b[0;34m\u001b[0m\u001b[0m\n\u001b[0m\u001b[1;32m     53\u001b[0m         \u001b[0;32melse\u001b[0m\u001b[0;34m:\u001b[0m\u001b[0;34m\u001b[0m\u001b[0;34m\u001b[0m\u001b[0m\n\u001b[1;32m     54\u001b[0m             \u001b[0mdata\u001b[0m \u001b[0;34m=\u001b[0m \u001b[0mself\u001b[0m\u001b[0;34m.\u001b[0m\u001b[0mdataset\u001b[0m\u001b[0;34m[\u001b[0m\u001b[0mpossibly_batched_index\u001b[0m\u001b[0;34m]\u001b[0m\u001b[0;34m\u001b[0m\u001b[0;34m\u001b[0m\u001b[0m\n",
            "\u001b[0;32m<ipython-input-155-885188511b57>\u001b[0m in \u001b[0;36m__getitem__\u001b[0;34m(self, idx)\u001b[0m\n\u001b[1;32m     27\u001b[0m             \u001b[0mresult\u001b[0m \u001b[0;34m=\u001b[0m \u001b[0mself\u001b[0m\u001b[0;34m.\u001b[0m\u001b[0mresults\u001b[0m\u001b[0;34m[\u001b[0m\u001b[0midx\u001b[0m\u001b[0;34m]\u001b[0m\u001b[0;34m\u001b[0m\u001b[0;34m\u001b[0m\u001b[0m\n\u001b[1;32m     28\u001b[0m         \u001b[0;32mif\u001b[0m \u001b[0mself\u001b[0m\u001b[0;34m.\u001b[0m\u001b[0mimg_transforms\u001b[0m\u001b[0;34m:\u001b[0m\u001b[0;34m\u001b[0m\u001b[0;34m\u001b[0m\u001b[0m\n\u001b[0;32m---> 29\u001b[0;31m             \u001b[0mimage\u001b[0m \u001b[0;34m=\u001b[0m \u001b[0mself\u001b[0m\u001b[0;34m.\u001b[0m\u001b[0mimg_transforms\u001b[0m\u001b[0;34m(\u001b[0m\u001b[0mimage\u001b[0m\u001b[0;34m)\u001b[0m\u001b[0;34m\u001b[0m\u001b[0;34m\u001b[0m\u001b[0m\n\u001b[0m\u001b[1;32m     30\u001b[0m         \u001b[0mclean_text\u001b[0m \u001b[0;34m=\u001b[0m \u001b[0mreplace_non_printable\u001b[0m\u001b[0;34m(\u001b[0m\u001b[0mresult\u001b[0m\u001b[0;34m)\u001b[0m\u001b[0;34m\u001b[0m\u001b[0;34m\u001b[0m\u001b[0m\n\u001b[1;32m     31\u001b[0m         \u001b[0mresult\u001b[0m \u001b[0;34m=\u001b[0m \u001b[0mtorch\u001b[0m\u001b[0;34m.\u001b[0m\u001b[0mtensor\u001b[0m\u001b[0;34m(\u001b[0m\u001b[0mclean_text\u001b[0m\u001b[0;34m,\u001b[0m \u001b[0mdtype\u001b[0m\u001b[0;34m=\u001b[0m\u001b[0mtorch\u001b[0m\u001b[0;34m.\u001b[0m\u001b[0mfloat32\u001b[0m\u001b[0;34m)\u001b[0m\u001b[0;34m.\u001b[0m\u001b[0mreshape\u001b[0m\u001b[0;34m(\u001b[0m\u001b[0;36m1\u001b[0m\u001b[0;34m,\u001b[0m \u001b[0;36m64\u001b[0m\u001b[0;34m,\u001b[0m \u001b[0;36m64\u001b[0m\u001b[0;34m)\u001b[0m\u001b[0;34m\u001b[0m\u001b[0;34m\u001b[0m\u001b[0m\n",
            "\u001b[0;32m/usr/local/lib/python3.11/dist-packages/torchvision/transforms/transforms.py\u001b[0m in \u001b[0;36m__call__\u001b[0;34m(self, img)\u001b[0m\n\u001b[1;32m     91\u001b[0m         \u001b[0mself\u001b[0m\u001b[0;34m.\u001b[0m\u001b[0mtransforms\u001b[0m \u001b[0;34m=\u001b[0m \u001b[0mtransforms\u001b[0m\u001b[0;34m\u001b[0m\u001b[0;34m\u001b[0m\u001b[0m\n\u001b[1;32m     92\u001b[0m \u001b[0;34m\u001b[0m\u001b[0m\n\u001b[0;32m---> 93\u001b[0;31m     \u001b[0;32mdef\u001b[0m \u001b[0m__call__\u001b[0m\u001b[0;34m(\u001b[0m\u001b[0mself\u001b[0m\u001b[0;34m,\u001b[0m \u001b[0mimg\u001b[0m\u001b[0;34m)\u001b[0m\u001b[0;34m:\u001b[0m\u001b[0;34m\u001b[0m\u001b[0;34m\u001b[0m\u001b[0m\n\u001b[0m\u001b[1;32m     94\u001b[0m         \u001b[0;32mfor\u001b[0m \u001b[0mt\u001b[0m \u001b[0;32min\u001b[0m \u001b[0mself\u001b[0m\u001b[0;34m.\u001b[0m\u001b[0mtransforms\u001b[0m\u001b[0;34m:\u001b[0m\u001b[0;34m\u001b[0m\u001b[0;34m\u001b[0m\u001b[0m\n\u001b[1;32m     95\u001b[0m             \u001b[0mimg\u001b[0m \u001b[0;34m=\u001b[0m \u001b[0mt\u001b[0m\u001b[0;34m(\u001b[0m\u001b[0mimg\u001b[0m\u001b[0;34m)\u001b[0m\u001b[0;34m\u001b[0m\u001b[0;34m\u001b[0m\u001b[0m\n",
            "\u001b[0;31mKeyboardInterrupt\u001b[0m: "
          ]
        }
      ]
    },
    {
      "cell_type": "code",
      "source": [
        "df = pd.DataFrame([models[0].conv1.weight.detach().numpy().squeeze(0).squeeze(0).reshape(9),\n",
        "                   models[0].conv2.weight.detach().numpy().squeeze(0).squeeze(0).reshape(9),\n",
        "                   models[0].conv3.weight.detach().numpy().squeeze(0).squeeze(0).reshape(9)])"
      ],
      "metadata": {
        "id": "67Sdli4qun8M"
      },
      "execution_count": 164,
      "outputs": []
    },
    {
      "cell_type": "code",
      "source": [
        "df"
      ],
      "metadata": {
        "colab": {
          "base_uri": "https://localhost:8080/",
          "height": 142
        },
        "id": "TKcEkawvu8wq",
        "outputId": "f5465ef0-753a-4965-fcff-94671a788c58"
      },
      "execution_count": 165,
      "outputs": [
        {
          "output_type": "execute_result",
          "data": {
            "text/plain": [
              "          0         1         2         3         4        5         6  \\\n",
              "0  0.062500  0.062500  0.062500  0.062500  0.062500  0.06250  0.062500   \n",
              "1  0.124047  0.251655  0.124219  0.251656  0.496788  0.25166  0.124228   \n",
              "2 -1.000000 -0.500000  0.000000 -0.500000  0.500000  0.50000  0.000000   \n",
              "\n",
              "          7        8  \n",
              "0  0.062500  0.06250  \n",
              "1  0.251652  0.12405  \n",
              "2  0.500000  1.00000  "
            ],
            "text/html": [
              "\n",
              "  <div id=\"df-cda4eeac-f14f-4a9b-88ed-2e578ec3a7a9\" class=\"colab-df-container\">\n",
              "    <div>\n",
              "<style scoped>\n",
              "    .dataframe tbody tr th:only-of-type {\n",
              "        vertical-align: middle;\n",
              "    }\n",
              "\n",
              "    .dataframe tbody tr th {\n",
              "        vertical-align: top;\n",
              "    }\n",
              "\n",
              "    .dataframe thead th {\n",
              "        text-align: right;\n",
              "    }\n",
              "</style>\n",
              "<table border=\"1\" class=\"dataframe\">\n",
              "  <thead>\n",
              "    <tr style=\"text-align: right;\">\n",
              "      <th></th>\n",
              "      <th>0</th>\n",
              "      <th>1</th>\n",
              "      <th>2</th>\n",
              "      <th>3</th>\n",
              "      <th>4</th>\n",
              "      <th>5</th>\n",
              "      <th>6</th>\n",
              "      <th>7</th>\n",
              "      <th>8</th>\n",
              "    </tr>\n",
              "  </thead>\n",
              "  <tbody>\n",
              "    <tr>\n",
              "      <th>0</th>\n",
              "      <td>0.062500</td>\n",
              "      <td>0.062500</td>\n",
              "      <td>0.062500</td>\n",
              "      <td>0.062500</td>\n",
              "      <td>0.062500</td>\n",
              "      <td>0.06250</td>\n",
              "      <td>0.062500</td>\n",
              "      <td>0.062500</td>\n",
              "      <td>0.06250</td>\n",
              "    </tr>\n",
              "    <tr>\n",
              "      <th>1</th>\n",
              "      <td>0.124047</td>\n",
              "      <td>0.251655</td>\n",
              "      <td>0.124219</td>\n",
              "      <td>0.251656</td>\n",
              "      <td>0.496788</td>\n",
              "      <td>0.25166</td>\n",
              "      <td>0.124228</td>\n",
              "      <td>0.251652</td>\n",
              "      <td>0.12405</td>\n",
              "    </tr>\n",
              "    <tr>\n",
              "      <th>2</th>\n",
              "      <td>-1.000000</td>\n",
              "      <td>-0.500000</td>\n",
              "      <td>0.000000</td>\n",
              "      <td>-0.500000</td>\n",
              "      <td>0.500000</td>\n",
              "      <td>0.50000</td>\n",
              "      <td>0.000000</td>\n",
              "      <td>0.500000</td>\n",
              "      <td>1.00000</td>\n",
              "    </tr>\n",
              "  </tbody>\n",
              "</table>\n",
              "</div>\n",
              "    <div class=\"colab-df-buttons\">\n",
              "\n",
              "  <div class=\"colab-df-container\">\n",
              "    <button class=\"colab-df-convert\" onclick=\"convertToInteractive('df-cda4eeac-f14f-4a9b-88ed-2e578ec3a7a9')\"\n",
              "            title=\"Convert this dataframe to an interactive table.\"\n",
              "            style=\"display:none;\">\n",
              "\n",
              "  <svg xmlns=\"http://www.w3.org/2000/svg\" height=\"24px\" viewBox=\"0 -960 960 960\">\n",
              "    <path d=\"M120-120v-720h720v720H120Zm60-500h600v-160H180v160Zm220 220h160v-160H400v160Zm0 220h160v-160H400v160ZM180-400h160v-160H180v160Zm440 0h160v-160H620v160ZM180-180h160v-160H180v160Zm440 0h160v-160H620v160Z\"/>\n",
              "  </svg>\n",
              "    </button>\n",
              "\n",
              "  <style>\n",
              "    .colab-df-container {\n",
              "      display:flex;\n",
              "      gap: 12px;\n",
              "    }\n",
              "\n",
              "    .colab-df-convert {\n",
              "      background-color: #E8F0FE;\n",
              "      border: none;\n",
              "      border-radius: 50%;\n",
              "      cursor: pointer;\n",
              "      display: none;\n",
              "      fill: #1967D2;\n",
              "      height: 32px;\n",
              "      padding: 0 0 0 0;\n",
              "      width: 32px;\n",
              "    }\n",
              "\n",
              "    .colab-df-convert:hover {\n",
              "      background-color: #E2EBFA;\n",
              "      box-shadow: 0px 1px 2px rgba(60, 64, 67, 0.3), 0px 1px 3px 1px rgba(60, 64, 67, 0.15);\n",
              "      fill: #174EA6;\n",
              "    }\n",
              "\n",
              "    .colab-df-buttons div {\n",
              "      margin-bottom: 4px;\n",
              "    }\n",
              "\n",
              "    [theme=dark] .colab-df-convert {\n",
              "      background-color: #3B4455;\n",
              "      fill: #D2E3FC;\n",
              "    }\n",
              "\n",
              "    [theme=dark] .colab-df-convert:hover {\n",
              "      background-color: #434B5C;\n",
              "      box-shadow: 0px 1px 3px 1px rgba(0, 0, 0, 0.15);\n",
              "      filter: drop-shadow(0px 1px 2px rgba(0, 0, 0, 0.3));\n",
              "      fill: #FFFFFF;\n",
              "    }\n",
              "  </style>\n",
              "\n",
              "    <script>\n",
              "      const buttonEl =\n",
              "        document.querySelector('#df-cda4eeac-f14f-4a9b-88ed-2e578ec3a7a9 button.colab-df-convert');\n",
              "      buttonEl.style.display =\n",
              "        google.colab.kernel.accessAllowed ? 'block' : 'none';\n",
              "\n",
              "      async function convertToInteractive(key) {\n",
              "        const element = document.querySelector('#df-cda4eeac-f14f-4a9b-88ed-2e578ec3a7a9');\n",
              "        const dataTable =\n",
              "          await google.colab.kernel.invokeFunction('convertToInteractive',\n",
              "                                                    [key], {});\n",
              "        if (!dataTable) return;\n",
              "\n",
              "        const docLinkHtml = 'Like what you see? Visit the ' +\n",
              "          '<a target=\"_blank\" href=https://colab.research.google.com/notebooks/data_table.ipynb>data table notebook</a>'\n",
              "          + ' to learn more about interactive tables.';\n",
              "        element.innerHTML = '';\n",
              "        dataTable['output_type'] = 'display_data';\n",
              "        await google.colab.output.renderOutput(dataTable, element);\n",
              "        const docLink = document.createElement('div');\n",
              "        docLink.innerHTML = docLinkHtml;\n",
              "        element.appendChild(docLink);\n",
              "      }\n",
              "    </script>\n",
              "  </div>\n",
              "\n",
              "\n",
              "    <div id=\"df-9b20e7c1-b256-4b92-8fcc-d5378d392ed9\">\n",
              "      <button class=\"colab-df-quickchart\" onclick=\"quickchart('df-9b20e7c1-b256-4b92-8fcc-d5378d392ed9')\"\n",
              "                title=\"Suggest charts\"\n",
              "                style=\"display:none;\">\n",
              "\n",
              "<svg xmlns=\"http://www.w3.org/2000/svg\" height=\"24px\"viewBox=\"0 0 24 24\"\n",
              "     width=\"24px\">\n",
              "    <g>\n",
              "        <path d=\"M19 3H5c-1.1 0-2 .9-2 2v14c0 1.1.9 2 2 2h14c1.1 0 2-.9 2-2V5c0-1.1-.9-2-2-2zM9 17H7v-7h2v7zm4 0h-2V7h2v10zm4 0h-2v-4h2v4z\"/>\n",
              "    </g>\n",
              "</svg>\n",
              "      </button>\n",
              "\n",
              "<style>\n",
              "  .colab-df-quickchart {\n",
              "      --bg-color: #E8F0FE;\n",
              "      --fill-color: #1967D2;\n",
              "      --hover-bg-color: #E2EBFA;\n",
              "      --hover-fill-color: #174EA6;\n",
              "      --disabled-fill-color: #AAA;\n",
              "      --disabled-bg-color: #DDD;\n",
              "  }\n",
              "\n",
              "  [theme=dark] .colab-df-quickchart {\n",
              "      --bg-color: #3B4455;\n",
              "      --fill-color: #D2E3FC;\n",
              "      --hover-bg-color: #434B5C;\n",
              "      --hover-fill-color: #FFFFFF;\n",
              "      --disabled-bg-color: #3B4455;\n",
              "      --disabled-fill-color: #666;\n",
              "  }\n",
              "\n",
              "  .colab-df-quickchart {\n",
              "    background-color: var(--bg-color);\n",
              "    border: none;\n",
              "    border-radius: 50%;\n",
              "    cursor: pointer;\n",
              "    display: none;\n",
              "    fill: var(--fill-color);\n",
              "    height: 32px;\n",
              "    padding: 0;\n",
              "    width: 32px;\n",
              "  }\n",
              "\n",
              "  .colab-df-quickchart:hover {\n",
              "    background-color: var(--hover-bg-color);\n",
              "    box-shadow: 0 1px 2px rgba(60, 64, 67, 0.3), 0 1px 3px 1px rgba(60, 64, 67, 0.15);\n",
              "    fill: var(--button-hover-fill-color);\n",
              "  }\n",
              "\n",
              "  .colab-df-quickchart-complete:disabled,\n",
              "  .colab-df-quickchart-complete:disabled:hover {\n",
              "    background-color: var(--disabled-bg-color);\n",
              "    fill: var(--disabled-fill-color);\n",
              "    box-shadow: none;\n",
              "  }\n",
              "\n",
              "  .colab-df-spinner {\n",
              "    border: 2px solid var(--fill-color);\n",
              "    border-color: transparent;\n",
              "    border-bottom-color: var(--fill-color);\n",
              "    animation:\n",
              "      spin 1s steps(1) infinite;\n",
              "  }\n",
              "\n",
              "  @keyframes spin {\n",
              "    0% {\n",
              "      border-color: transparent;\n",
              "      border-bottom-color: var(--fill-color);\n",
              "      border-left-color: var(--fill-color);\n",
              "    }\n",
              "    20% {\n",
              "      border-color: transparent;\n",
              "      border-left-color: var(--fill-color);\n",
              "      border-top-color: var(--fill-color);\n",
              "    }\n",
              "    30% {\n",
              "      border-color: transparent;\n",
              "      border-left-color: var(--fill-color);\n",
              "      border-top-color: var(--fill-color);\n",
              "      border-right-color: var(--fill-color);\n",
              "    }\n",
              "    40% {\n",
              "      border-color: transparent;\n",
              "      border-right-color: var(--fill-color);\n",
              "      border-top-color: var(--fill-color);\n",
              "    }\n",
              "    60% {\n",
              "      border-color: transparent;\n",
              "      border-right-color: var(--fill-color);\n",
              "    }\n",
              "    80% {\n",
              "      border-color: transparent;\n",
              "      border-right-color: var(--fill-color);\n",
              "      border-bottom-color: var(--fill-color);\n",
              "    }\n",
              "    90% {\n",
              "      border-color: transparent;\n",
              "      border-bottom-color: var(--fill-color);\n",
              "    }\n",
              "  }\n",
              "</style>\n",
              "\n",
              "      <script>\n",
              "        async function quickchart(key) {\n",
              "          const quickchartButtonEl =\n",
              "            document.querySelector('#' + key + ' button');\n",
              "          quickchartButtonEl.disabled = true;  // To prevent multiple clicks.\n",
              "          quickchartButtonEl.classList.add('colab-df-spinner');\n",
              "          try {\n",
              "            const charts = await google.colab.kernel.invokeFunction(\n",
              "                'suggestCharts', [key], {});\n",
              "          } catch (error) {\n",
              "            console.error('Error during call to suggestCharts:', error);\n",
              "          }\n",
              "          quickchartButtonEl.classList.remove('colab-df-spinner');\n",
              "          quickchartButtonEl.classList.add('colab-df-quickchart-complete');\n",
              "        }\n",
              "        (() => {\n",
              "          let quickchartButtonEl =\n",
              "            document.querySelector('#df-9b20e7c1-b256-4b92-8fcc-d5378d392ed9 button');\n",
              "          quickchartButtonEl.style.display =\n",
              "            google.colab.kernel.accessAllowed ? 'block' : 'none';\n",
              "        })();\n",
              "      </script>\n",
              "    </div>\n",
              "    </div>\n",
              "  </div>\n"
            ],
            "application/vnd.google.colaboratory.intrinsic+json": {
              "type": "dataframe",
              "variable_name": "df",
              "summary": "{\n  \"name\": \"df\",\n  \"rows\": 3,\n  \"fields\": [\n    {\n      \"column\": 0,\n      \"properties\": {\n        \"dtype\": \"float32\",\n        \"num_unique_values\": 3,\n        \"samples\": [\n          0.0625,\n          0.12404746562242508,\n          -1.0\n        ],\n        \"semantic_type\": \"\",\n        \"description\": \"\"\n      }\n    },\n    {\n      \"column\": 1,\n      \"properties\": {\n        \"dtype\": \"float32\",\n        \"num_unique_values\": 3,\n        \"samples\": [\n          0.0625,\n          0.2516552805900574,\n          -0.5\n        ],\n        \"semantic_type\": \"\",\n        \"description\": \"\"\n      }\n    },\n    {\n      \"column\": 2,\n      \"properties\": {\n        \"dtype\": \"float32\",\n        \"num_unique_values\": 3,\n        \"samples\": [\n          0.0625,\n          0.12421948462724686,\n          0.0\n        ],\n        \"semantic_type\": \"\",\n        \"description\": \"\"\n      }\n    },\n    {\n      \"column\": 3,\n      \"properties\": {\n        \"dtype\": \"float32\",\n        \"num_unique_values\": 3,\n        \"samples\": [\n          0.0625,\n          0.2516559660434723,\n          -0.5\n        ],\n        \"semantic_type\": \"\",\n        \"description\": \"\"\n      }\n    },\n    {\n      \"column\": 4,\n      \"properties\": {\n        \"dtype\": \"float32\",\n        \"num_unique_values\": 3,\n        \"samples\": [\n          0.0625,\n          0.49678799510002136,\n          0.5\n        ],\n        \"semantic_type\": \"\",\n        \"description\": \"\"\n      }\n    },\n    {\n      \"column\": 5,\n      \"properties\": {\n        \"dtype\": \"float32\",\n        \"num_unique_values\": 3,\n        \"samples\": [\n          0.0625,\n          0.2516597509384155,\n          0.5\n        ],\n        \"semantic_type\": \"\",\n        \"description\": \"\"\n      }\n    },\n    {\n      \"column\": 6,\n      \"properties\": {\n        \"dtype\": \"float32\",\n        \"num_unique_values\": 3,\n        \"samples\": [\n          0.0625,\n          0.12422798573970795,\n          0.0\n        ],\n        \"semantic_type\": \"\",\n        \"description\": \"\"\n      }\n    },\n    {\n      \"column\": 7,\n      \"properties\": {\n        \"dtype\": \"float32\",\n        \"num_unique_values\": 3,\n        \"samples\": [\n          0.0625,\n          0.2516516447067261,\n          0.5\n        ],\n        \"semantic_type\": \"\",\n        \"description\": \"\"\n      }\n    },\n    {\n      \"column\": 8,\n      \"properties\": {\n        \"dtype\": \"float32\",\n        \"num_unique_values\": 3,\n        \"samples\": [\n          0.0625,\n          0.12404987961053848,\n          1.0\n        ],\n        \"semantic_type\": \"\",\n        \"description\": \"\"\n      }\n    }\n  ]\n}"
            }
          },
          "metadata": {},
          "execution_count": 165
        }
      ]
    },
    {
      "cell_type": "code",
      "source": [
        "df.to_csv(\"reconstructed_algos.csv\", header=False, index=False)"
      ],
      "metadata": {
        "id": "zDIJZAlWvBv3"
      },
      "execution_count": 166,
      "outputs": []
    },
    {
      "cell_type": "markdown",
      "source": [
        "# B. Operation: EchoTrace fixed"
      ],
      "metadata": {
        "id": "3L0BM-FNl_he"
      }
    },
    {
      "cell_type": "code",
      "source": [
        "# ! pip install ftfy regex tqdm\n",
        "# ! pip install git+https://github.com/openai/CLIP.git"
      ],
      "metadata": {
        "id": "ETL2h1PntmSf"
      },
      "execution_count": 5,
      "outputs": []
    },
    {
      "cell_type": "code",
      "source": [
        "import clip\n",
        "\n",
        "clip.available_models()"
      ],
      "metadata": {
        "colab": {
          "base_uri": "https://localhost:8080/"
        },
        "id": "ACOZfrCLto4g",
        "outputId": "7e604d1a-b3b2-4cfc-fca5-a4b8a0d521db"
      },
      "execution_count": 6,
      "outputs": [
        {
          "output_type": "execute_result",
          "data": {
            "text/plain": [
              "['RN50',\n",
              " 'RN101',\n",
              " 'RN50x4',\n",
              " 'RN50x16',\n",
              " 'RN50x64',\n",
              " 'ViT-B/32',\n",
              " 'ViT-B/16',\n",
              " 'ViT-L/14',\n",
              " 'ViT-L/14@336px']"
            ]
          },
          "metadata": {},
          "execution_count": 6
        }
      ]
    },
    {
      "cell_type": "code",
      "source": [
        "model, preprocess = clip.load(\"ViT-B/32\")\n",
        "model.cuda().eval()\n",
        "input_resolution = model.visual.input_resolution\n",
        "context_length = model.context_length\n",
        "vocab_size = model.vocab_size\n",
        "\n",
        "print(\"Model parameters:\", f\"{np.sum([int(np.prod(p.shape)) for p in model.parameters()]):,}\")\n",
        "print(\"Input resolution:\", input_resolution)\n",
        "print(\"Context length:\", context_length)\n",
        "print(\"Vocab size:\", vocab_size)"
      ],
      "metadata": {
        "colab": {
          "base_uri": "https://localhost:8080/"
        },
        "id": "SgyQ5nQGt2z_",
        "outputId": "814b7e91-67d0-43b9-8383-9239a67954b8"
      },
      "execution_count": 7,
      "outputs": [
        {
          "output_type": "stream",
          "name": "stdout",
          "text": [
            "Model parameters: 151,277,313\n",
            "Input resolution: 224\n",
            "Context length: 77\n",
            "Vocab size: 49408\n"
          ]
        }
      ]
    },
    {
      "cell_type": "code",
      "source": [
        "# !mkdir dataset"
      ],
      "metadata": {
        "id": "X2WbvIPjwvmr"
      },
      "execution_count": 172,
      "outputs": []
    },
    {
      "cell_type": "code",
      "source": [
        "import zipfile\n",
        "import os\n",
        "\n",
        "zip_path = \"/content/dataset.zip\"\n",
        "extract_path = \"/content/dataset\"\n",
        "\n",
        "# Создание папки, если нужно\n",
        "os.makedirs(extract_path, exist_ok=True)\n",
        "\n",
        "# Распаковка архива\n",
        "with zipfile.ZipFile(zip_path, 'r') as zip_ref:\n",
        "    zip_ref.extractall(extract_path)"
      ],
      "metadata": {
        "id": "4yuJ1P77wp-U"
      },
      "execution_count": 8,
      "outputs": []
    },
    {
      "cell_type": "code",
      "source": [
        "device = torch.device(\"cuda\" if torch.cuda.is_available() else \"cpu\")\n",
        "folder_path = '/content/dataset/dataset'\n",
        "images = dict()\n",
        "\n",
        "for filename in tqdm(os.listdir(folder_path)):\n",
        "    full_path = os.path.join(folder_path, filename)\n",
        "    if filename.endswith('.png'):\n",
        "        image = Image.open(full_path)\n",
        "        with torch.no_grad():\n",
        "            image_input = preprocess(image).unsqueeze(0)\n",
        "            image_input = image_input.to(device)\n",
        "            image_features = model.encode_image(image_input).float()\n",
        "            image_features = image_features / image_features.norm(dim=-1, keepdim=True)\n",
        "            images[filename] = image_features.squeeze(0)"
      ],
      "metadata": {
        "colab": {
          "base_uri": "https://localhost:8080/",
          "height": 49,
          "referenced_widgets": [
            "f98f6371f3844ba8b55929e522c17133",
            "f856b74c487f4b74be6b07f62d83c3bb",
            "b7a0ac1f189c41ac8d3eeee785f51082",
            "24dec974d7974b6aa3bf3c20e033c84a",
            "ed48dc4567484961ab6da779b490865a",
            "20a197d52b6d4aa4950dfbaebe7b2f4a",
            "ce4edd07ac5e4823b69b63d1b3f44072",
            "a1e90344ab3b436eb14c84f931b71818",
            "3461500b07ee4ce89570baf0aa3291f9",
            "cd31f00985a3469cb32fc8f76cd2f699",
            "9ed8e11cca104c4285f7aa2a4af6a124"
          ]
        },
        "id": "nnu3qWmhxJmu",
        "outputId": "9f8390de-8cd2-4c36-bd92-8be8ff69a8d6"
      },
      "execution_count": 10,
      "outputs": [
        {
          "output_type": "display_data",
          "data": {
            "text/plain": [
              "  0%|          | 0/9605 [00:00<?, ?it/s]"
            ],
            "application/vnd.jupyter.widget-view+json": {
              "version_major": 2,
              "version_minor": 0,
              "model_id": "f98f6371f3844ba8b55929e522c17133"
            }
          },
          "metadata": {}
        }
      ]
    },
    {
      "cell_type": "code",
      "source": [
        "len(images.keys())"
      ],
      "metadata": {
        "colab": {
          "base_uri": "https://localhost:8080/"
        },
        "id": "IgR7vejZ0LXM",
        "outputId": "8c9b1fb4-935c-4258-bcf1-5e10de4ac10b"
      },
      "execution_count": 11,
      "outputs": [
        {
          "output_type": "execute_result",
          "data": {
            "text/plain": [
              "9605"
            ]
          },
          "metadata": {},
          "execution_count": 11
        }
      ]
    },
    {
      "cell_type": "code",
      "source": [
        "import torch\n",
        "from tqdm import tqdm\n",
        "\n",
        "keys = list(images.keys())\n",
        "embs = torch.stack([images[k] for k in keys], dim=0)  # (N, D)\n",
        "\n",
        "# Нормализуем, чтобы каждая строка имела L2-норму 1\n",
        "embs = embs / (embs.norm(p=2, dim=1, keepdim=True).clamp(min=1e-8))"
      ],
      "metadata": {
        "id": "jb7yTWgnEGoM"
      },
      "execution_count": 15,
      "outputs": []
    },
    {
      "cell_type": "code",
      "source": [
        "S = embs @ embs.T  # (N, N)\n",
        "\n",
        "# Чтобы не учитывать саму диагональ (сравнение с самим собой), зануляем её\n",
        "S.fill_diagonal_(-1.0)\n",
        "\n",
        "# Для каждой строки берём top-6 индексов\n",
        "# topk возвращает значения и индексы; нам нужны индексы\n",
        "values, indices = torch.topk(S, k=6, dim=1, largest=True)\n",
        "\n",
        "# Собираем словарь ответов\n",
        "answers_fast = {\n",
        "    keys[i]: [keys[j] for j in indices[i].tolist()]\n",
        "    for i in range(len(keys))\n",
        "}"
      ],
      "metadata": {
        "id": "fDsooFhJEJmO"
      },
      "execution_count": 16,
      "outputs": []
    },
    {
      "cell_type": "code",
      "source": [
        "def topk_cosine(embs, k=6, block_size=1000):\n",
        "    N, D = embs.shape\n",
        "    embs = embs / embs.norm(p=2, dim=1, keepdim=True).clamp(min=1e-8)\n",
        "    topk_indices = [None] * N\n",
        "    for i in range(0, N, block_size):\n",
        "        j = min(i + block_size, N)\n",
        "        block = embs[i:j]                # (B, D)\n",
        "        sims = block @ embs.T            # (B, N)\n",
        "        sims[:, i:j].fill_diagonal_(-1)  # исключаем самих себя\n",
        "        _, idx = torch.topk(sims, k=k, dim=1, largest=True)\n",
        "        for bi, row in enumerate(idx):\n",
        "            topk_indices[i + bi] = row.tolist()\n",
        "    return topk_indices\n",
        "\n",
        "topk_idx = topk_cosine(embs, k=6)\n",
        "answers_fast = {\n",
        "    keys[i]: [keys[j] for j in topk_idx[i]]\n",
        "    for i in range(len(keys))\n",
        "}"
      ],
      "metadata": {
        "id": "DwUZKlc-zh9G"
      },
      "execution_count": 17,
      "outputs": []
    },
    {
      "cell_type": "code",
      "source": [
        "import pandas as pd\n",
        "\n",
        "rows = []\n",
        "for filename, neighbors in answers_fast.items():\n",
        "    ranking_str = \" \".join(neighbors)\n",
        "    rows.append({\"filename\": filename, \"ranking\": ranking_str})\n",
        "\n",
        "df = pd.DataFrame(rows, columns=[\"filename\", \"ranking\"])\n",
        "df.sort_values(\"filename\", inplace=True)\n",
        "df.to_csv(\"submission.csv\", index=False)"
      ],
      "metadata": {
        "id": "O-7OOLWyETlr"
      },
      "execution_count": 18,
      "outputs": []
    }
  ]
}